{
 "cells": [
  {
   "cell_type": "markdown",
   "id": "4bb18d97",
   "metadata": {},
   "source": [
    "# История TED-конференций."
   ]
  },
  {
   "cell_type": "markdown",
   "id": "56ac807e",
   "metadata": {},
   "source": [
    "Цель данного проекта - исследование истории TED-конференций. <br>\n",
    "<br>\n",
    "С целью анализа выступлений и выявления зависимостей, предполагается выполнить следующие задачи: <br>\n",
    "    1. Анализ истории выступлений: география выступлений, основные тематики и и их соотношение в общей структуре по годам. <br>\n",
    "    2. Анализ тематик выступлений: соотношение основных категорий, популярность выступлений - зависимость количества аплодисментов и реакции смеха от тематики выступления, зависимость количества промостров от длительности выступления, популярность различных тематик в различных странах. <br>\n",
    "    3. Исследование авторов выступлений - сферы деятельности авторов и количество выступлений. <br>\n",
    "    4. Анализ сезонности выступлений - изменение количества конференций, выступлений и популярности различных тематик в зависимости от месяца."
   ]
  },
  {
   "cell_type": "markdown",
   "id": "beeeae25",
   "metadata": {},
   "source": [
    "Ссылка на презентацию:"
   ]
  },
  {
   "cell_type": "markdown",
   "id": "da167cea",
   "metadata": {},
   "source": [
    "https://public.tableau.com/views/Book2_17306159113610/Story1?:language=en-US&publish=yes&:sid=&:redirect=auth&:display_count=n&:origin=viz_share_link"
   ]
  }
 ],
 "metadata": {
  "kernelspec": {
   "display_name": "Python 3 (ipykernel)",
   "language": "python",
   "name": "python3"
  },
  "language_info": {
   "codemirror_mode": {
    "name": "ipython",
    "version": 3
   },
   "file_extension": ".py",
   "mimetype": "text/x-python",
   "name": "python",
   "nbconvert_exporter": "python",
   "pygments_lexer": "ipython3",
   "version": "3.11.7"
  },
  "toc": {
   "base_numbering": 1,
   "nav_menu": {},
   "number_sections": true,
   "sideBar": true,
   "skip_h1_title": true,
   "title_cell": "Table of Contents",
   "title_sidebar": "Contents",
   "toc_cell": false,
   "toc_position": {},
   "toc_section_display": true,
   "toc_window_display": false
  }
 },
 "nbformat": 4,
 "nbformat_minor": 5
}
