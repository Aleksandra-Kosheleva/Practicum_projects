{
 "cells": [
  {
   "cell_type": "markdown",
   "id": "e2d18c6d",
   "metadata": {},
   "source": [
    "# Анализ сервиса аренды самокатов GoFast"
   ]
  },
  {
   "cell_type": "markdown",
   "id": "e3116b1e",
   "metadata": {},
   "source": [
    "Цель данного исследования - поиск рекомендаций для роста бизнеса аренды самокатов. <br>\n",
    "Сервисом пользуется две группы пользователей - с подпиской и без подписки. Для них различаются тарифы. <br>\n",
    "Задачей исследования является сравнение показателей двух групп пользователей и разработка стратегии развития бизнеса."
   ]
  },
  {
   "cell_type": "markdown",
   "id": "ca729294",
   "metadata": {},
   "source": [
    "Основные задачи:<br>\n",
    "    1. Знакомство с данными. Общий обзор, предварительное знакомство с типами данных, наличием пропусков.<br>\n",
    "    2. Предварительная обработка данных.<br>\n",
    "        2.1 Поиск пропусков, заполнение пропусков приемлемыми данными, где это возможно.<br>\n",
    "        2.2 Поиск и удаление явных дубликатов.<br>\n",
    "        2.3 Преобразование типов данных, где это необходимо.<br>\n",
    "    3. Проведение исследовательского анализа данных.<br>\n",
    "        3.1 Изучение портрета пользователя - город проживания, возраст, наличие подписки, длительность и дальность поездки (построение таблиц и графиков по каждому параметру).<br>\n",
    "    4. Подготовка и дополнительная обработка данных для последующего статистического анализа - объединение данных в один датасет, сравнение длительности и дальности поездок для пользоателей с подпиской и без.<br>\n",
    "    5. Расчёт помесячной выручки для каждого пользователя.<br>\n",
    "    6. Статистический анализ данных. Проверка гипотез.<br>\n",
    "        6.1 Гипотеза о том, что пользователи с подпиской тратят больше времени на поездки. <br>\n",
    "        6.2 Гипотеза о том, что среднее расстояние поездок пользователей с подпиской превышает оптимальное расстояние поездки самоката. <br>\n",
    "        6.3 Гипотеза о том, что месячная выручка от пользователей с подпиской выше такой же выручки от пользователей без подписки.<br>\n",
    "    7. Разработка рекомендаций с помощью распределений. Поиск оптимальных решений.<br>\n",
    "        7.1 Поиск оптимального количества промокодов для получения 100 пользователей с подпиской.<br>\n",
    "        7.2 Расчёт вероятности получения необходимого количества открытий push-уведомлений.<br>\n",
    "    8. Выводы."
   ]
  },
  {
   "cell_type": "code",
   "execution_count": 1,
   "id": "72576667",
   "metadata": {},
   "outputs": [],
   "source": [
    "import pandas as pd\n",
    "import matplotlib.pyplot as plt\n",
    "import numpy as np\n",
    "from scipy import stats as st\n",
    "import warnings\n",
    "warnings.filterwarnings('ignore')"
   ]
  },
  {
   "cell_type": "markdown",
   "id": "6c7506f8",
   "metadata": {},
   "source": [
    "## Обзор данных"
   ]
  },
  {
   "cell_type": "markdown",
   "id": "c42cbe00",
   "metadata": {},
   "source": [
    "### Шаг 1. Загрузка данных"
   ]
  },
  {
   "cell_type": "code",
   "execution_count": 2,
   "id": "eff9f206",
   "metadata": {},
   "outputs": [],
   "source": [
    "try:\n",
    "    users = pd.read_csv('C:/Users/Azerty/Downloads/users_go.csv')\n",
    "    rides = pd.read_csv('C:/Users/Azerty/Downloads/rides_go.csv', parse_dates=['date'])\n",
    "    subscriptions = pd.read_csv('C:/Users/Azerty/Downloads/subscriptions_go.csv')\n",
    "except:\n",
    "    users = pd.read_csv('https://code.s3.yandex.net/datasets/users_go.csv')\n",
    "#     rides = pd.read_csv('https://code.s3.yandex.net/datasets/rides_go.csv', parse_dates=['date'], dayfirst=True)\n",
    "    rides = pd.read_csv('/datasets/rides_go.csv', parse_dates=['date'])\n",
    "    subscriptions = pd.read_csv('https://code.s3.yandex.net/datasets/subscriptions_go.csv')"
   ]
  },
  {
   "cell_type": "code",
   "execution_count": 3,
   "id": "cd7a416a",
   "metadata": {},
   "outputs": [],
   "source": [
    "def display_info(data):\n",
    "    display(data.head(10))\n",
    "    display(data.info())"
   ]
  },
  {
   "cell_type": "code",
   "execution_count": 4,
   "id": "eb4f3e28",
   "metadata": {},
   "outputs": [
    {
     "data": {
      "text/html": [
       "<div>\n",
       "<style scoped>\n",
       "    .dataframe tbody tr th:only-of-type {\n",
       "        vertical-align: middle;\n",
       "    }\n",
       "\n",
       "    .dataframe tbody tr th {\n",
       "        vertical-align: top;\n",
       "    }\n",
       "\n",
       "    .dataframe thead th {\n",
       "        text-align: right;\n",
       "    }\n",
       "</style>\n",
       "<table border=\"1\" class=\"dataframe\">\n",
       "  <thead>\n",
       "    <tr style=\"text-align: right;\">\n",
       "      <th></th>\n",
       "      <th>user_id</th>\n",
       "      <th>name</th>\n",
       "      <th>age</th>\n",
       "      <th>city</th>\n",
       "      <th>subscription_type</th>\n",
       "    </tr>\n",
       "  </thead>\n",
       "  <tbody>\n",
       "    <tr>\n",
       "      <th>0</th>\n",
       "      <td>1</td>\n",
       "      <td>Кира</td>\n",
       "      <td>22</td>\n",
       "      <td>Тюмень</td>\n",
       "      <td>ultra</td>\n",
       "    </tr>\n",
       "    <tr>\n",
       "      <th>1</th>\n",
       "      <td>2</td>\n",
       "      <td>Станислав</td>\n",
       "      <td>31</td>\n",
       "      <td>Омск</td>\n",
       "      <td>ultra</td>\n",
       "    </tr>\n",
       "    <tr>\n",
       "      <th>2</th>\n",
       "      <td>3</td>\n",
       "      <td>Алексей</td>\n",
       "      <td>20</td>\n",
       "      <td>Москва</td>\n",
       "      <td>ultra</td>\n",
       "    </tr>\n",
       "    <tr>\n",
       "      <th>3</th>\n",
       "      <td>4</td>\n",
       "      <td>Константин</td>\n",
       "      <td>26</td>\n",
       "      <td>Ростов-на-Дону</td>\n",
       "      <td>ultra</td>\n",
       "    </tr>\n",
       "    <tr>\n",
       "      <th>4</th>\n",
       "      <td>5</td>\n",
       "      <td>Адель</td>\n",
       "      <td>28</td>\n",
       "      <td>Омск</td>\n",
       "      <td>ultra</td>\n",
       "    </tr>\n",
       "    <tr>\n",
       "      <th>5</th>\n",
       "      <td>6</td>\n",
       "      <td>Регина</td>\n",
       "      <td>25</td>\n",
       "      <td>Краснодар</td>\n",
       "      <td>ultra</td>\n",
       "    </tr>\n",
       "    <tr>\n",
       "      <th>6</th>\n",
       "      <td>7</td>\n",
       "      <td>Игорь</td>\n",
       "      <td>23</td>\n",
       "      <td>Омск</td>\n",
       "      <td>ultra</td>\n",
       "    </tr>\n",
       "    <tr>\n",
       "      <th>7</th>\n",
       "      <td>8</td>\n",
       "      <td>Юрий</td>\n",
       "      <td>23</td>\n",
       "      <td>Краснодар</td>\n",
       "      <td>ultra</td>\n",
       "    </tr>\n",
       "    <tr>\n",
       "      <th>8</th>\n",
       "      <td>9</td>\n",
       "      <td>Ян</td>\n",
       "      <td>21</td>\n",
       "      <td>Пятигорск</td>\n",
       "      <td>ultra</td>\n",
       "    </tr>\n",
       "    <tr>\n",
       "      <th>9</th>\n",
       "      <td>10</td>\n",
       "      <td>Валерий</td>\n",
       "      <td>18</td>\n",
       "      <td>Екатеринбург</td>\n",
       "      <td>ultra</td>\n",
       "    </tr>\n",
       "  </tbody>\n",
       "</table>\n",
       "</div>"
      ],
      "text/plain": [
       "   user_id        name  age            city subscription_type\n",
       "0        1        Кира   22          Тюмень             ultra\n",
       "1        2   Станислав   31            Омск             ultra\n",
       "2        3     Алексей   20          Москва             ultra\n",
       "3        4  Константин   26  Ростов-на-Дону             ultra\n",
       "4        5       Адель   28            Омск             ultra\n",
       "5        6      Регина   25       Краснодар             ultra\n",
       "6        7       Игорь   23            Омск             ultra\n",
       "7        8        Юрий   23       Краснодар             ultra\n",
       "8        9          Ян   21       Пятигорск             ultra\n",
       "9       10     Валерий   18    Екатеринбург             ultra"
      ]
     },
     "metadata": {},
     "output_type": "display_data"
    },
    {
     "name": "stdout",
     "output_type": "stream",
     "text": [
      "<class 'pandas.core.frame.DataFrame'>\n",
      "RangeIndex: 1565 entries, 0 to 1564\n",
      "Data columns (total 5 columns):\n",
      " #   Column             Non-Null Count  Dtype \n",
      "---  ------             --------------  ----- \n",
      " 0   user_id            1565 non-null   int64 \n",
      " 1   name               1565 non-null   object\n",
      " 2   age                1565 non-null   int64 \n",
      " 3   city               1565 non-null   object\n",
      " 4   subscription_type  1565 non-null   object\n",
      "dtypes: int64(2), object(3)\n",
      "memory usage: 61.3+ KB\n"
     ]
    },
    {
     "data": {
      "text/plain": [
       "None"
      ]
     },
     "metadata": {},
     "output_type": "display_data"
    },
    {
     "data": {
      "text/html": [
       "<div>\n",
       "<style scoped>\n",
       "    .dataframe tbody tr th:only-of-type {\n",
       "        vertical-align: middle;\n",
       "    }\n",
       "\n",
       "    .dataframe tbody tr th {\n",
       "        vertical-align: top;\n",
       "    }\n",
       "\n",
       "    .dataframe thead th {\n",
       "        text-align: right;\n",
       "    }\n",
       "</style>\n",
       "<table border=\"1\" class=\"dataframe\">\n",
       "  <thead>\n",
       "    <tr style=\"text-align: right;\">\n",
       "      <th></th>\n",
       "      <th>user_id</th>\n",
       "      <th>distance</th>\n",
       "      <th>duration</th>\n",
       "      <th>date</th>\n",
       "    </tr>\n",
       "  </thead>\n",
       "  <tbody>\n",
       "    <tr>\n",
       "      <th>0</th>\n",
       "      <td>1</td>\n",
       "      <td>4409.919140</td>\n",
       "      <td>25.599769</td>\n",
       "      <td>2021-01-01</td>\n",
       "    </tr>\n",
       "    <tr>\n",
       "      <th>1</th>\n",
       "      <td>1</td>\n",
       "      <td>2617.592153</td>\n",
       "      <td>15.816871</td>\n",
       "      <td>2021-01-18</td>\n",
       "    </tr>\n",
       "    <tr>\n",
       "      <th>2</th>\n",
       "      <td>1</td>\n",
       "      <td>754.159807</td>\n",
       "      <td>6.232113</td>\n",
       "      <td>2021-04-20</td>\n",
       "    </tr>\n",
       "    <tr>\n",
       "      <th>3</th>\n",
       "      <td>1</td>\n",
       "      <td>2694.783254</td>\n",
       "      <td>18.511000</td>\n",
       "      <td>2021-08-11</td>\n",
       "    </tr>\n",
       "    <tr>\n",
       "      <th>4</th>\n",
       "      <td>1</td>\n",
       "      <td>4028.687306</td>\n",
       "      <td>26.265803</td>\n",
       "      <td>2021-08-28</td>\n",
       "    </tr>\n",
       "    <tr>\n",
       "      <th>5</th>\n",
       "      <td>1</td>\n",
       "      <td>2770.890808</td>\n",
       "      <td>16.650138</td>\n",
       "      <td>2021-10-09</td>\n",
       "    </tr>\n",
       "    <tr>\n",
       "      <th>6</th>\n",
       "      <td>1</td>\n",
       "      <td>3039.020292</td>\n",
       "      <td>14.927879</td>\n",
       "      <td>2021-10-19</td>\n",
       "    </tr>\n",
       "    <tr>\n",
       "      <th>7</th>\n",
       "      <td>1</td>\n",
       "      <td>2842.118050</td>\n",
       "      <td>23.117468</td>\n",
       "      <td>2021-11-06</td>\n",
       "    </tr>\n",
       "    <tr>\n",
       "      <th>8</th>\n",
       "      <td>1</td>\n",
       "      <td>3412.690668</td>\n",
       "      <td>15.238072</td>\n",
       "      <td>2021-11-14</td>\n",
       "    </tr>\n",
       "    <tr>\n",
       "      <th>9</th>\n",
       "      <td>1</td>\n",
       "      <td>748.690645</td>\n",
       "      <td>15.041884</td>\n",
       "      <td>2021-11-22</td>\n",
       "    </tr>\n",
       "  </tbody>\n",
       "</table>\n",
       "</div>"
      ],
      "text/plain": [
       "   user_id     distance   duration       date\n",
       "0        1  4409.919140  25.599769 2021-01-01\n",
       "1        1  2617.592153  15.816871 2021-01-18\n",
       "2        1   754.159807   6.232113 2021-04-20\n",
       "3        1  2694.783254  18.511000 2021-08-11\n",
       "4        1  4028.687306  26.265803 2021-08-28\n",
       "5        1  2770.890808  16.650138 2021-10-09\n",
       "6        1  3039.020292  14.927879 2021-10-19\n",
       "7        1  2842.118050  23.117468 2021-11-06\n",
       "8        1  3412.690668  15.238072 2021-11-14\n",
       "9        1   748.690645  15.041884 2021-11-22"
      ]
     },
     "metadata": {},
     "output_type": "display_data"
    },
    {
     "name": "stdout",
     "output_type": "stream",
     "text": [
      "<class 'pandas.core.frame.DataFrame'>\n",
      "RangeIndex: 18068 entries, 0 to 18067\n",
      "Data columns (total 4 columns):\n",
      " #   Column    Non-Null Count  Dtype         \n",
      "---  ------    --------------  -----         \n",
      " 0   user_id   18068 non-null  int64         \n",
      " 1   distance  18068 non-null  float64       \n",
      " 2   duration  18068 non-null  float64       \n",
      " 3   date      18068 non-null  datetime64[ns]\n",
      "dtypes: datetime64[ns](1), float64(2), int64(1)\n",
      "memory usage: 564.8 KB\n"
     ]
    },
    {
     "data": {
      "text/plain": [
       "None"
      ]
     },
     "metadata": {},
     "output_type": "display_data"
    },
    {
     "data": {
      "text/html": [
       "<div>\n",
       "<style scoped>\n",
       "    .dataframe tbody tr th:only-of-type {\n",
       "        vertical-align: middle;\n",
       "    }\n",
       "\n",
       "    .dataframe tbody tr th {\n",
       "        vertical-align: top;\n",
       "    }\n",
       "\n",
       "    .dataframe thead th {\n",
       "        text-align: right;\n",
       "    }\n",
       "</style>\n",
       "<table border=\"1\" class=\"dataframe\">\n",
       "  <thead>\n",
       "    <tr style=\"text-align: right;\">\n",
       "      <th></th>\n",
       "      <th>subscription_type</th>\n",
       "      <th>minute_price</th>\n",
       "      <th>start_ride_price</th>\n",
       "      <th>subscription_fee</th>\n",
       "    </tr>\n",
       "  </thead>\n",
       "  <tbody>\n",
       "    <tr>\n",
       "      <th>0</th>\n",
       "      <td>free</td>\n",
       "      <td>8</td>\n",
       "      <td>50</td>\n",
       "      <td>0</td>\n",
       "    </tr>\n",
       "    <tr>\n",
       "      <th>1</th>\n",
       "      <td>ultra</td>\n",
       "      <td>6</td>\n",
       "      <td>0</td>\n",
       "      <td>199</td>\n",
       "    </tr>\n",
       "  </tbody>\n",
       "</table>\n",
       "</div>"
      ],
      "text/plain": [
       "  subscription_type  minute_price  start_ride_price  subscription_fee\n",
       "0              free             8                50                 0\n",
       "1             ultra             6                 0               199"
      ]
     },
     "metadata": {},
     "output_type": "display_data"
    },
    {
     "name": "stdout",
     "output_type": "stream",
     "text": [
      "<class 'pandas.core.frame.DataFrame'>\n",
      "RangeIndex: 2 entries, 0 to 1\n",
      "Data columns (total 4 columns):\n",
      " #   Column             Non-Null Count  Dtype \n",
      "---  ------             --------------  ----- \n",
      " 0   subscription_type  2 non-null      object\n",
      " 1   minute_price       2 non-null      int64 \n",
      " 2   start_ride_price   2 non-null      int64 \n",
      " 3   subscription_fee   2 non-null      int64 \n",
      "dtypes: int64(3), object(1)\n",
      "memory usage: 196.0+ bytes\n"
     ]
    },
    {
     "data": {
      "text/plain": [
       "None"
      ]
     },
     "metadata": {},
     "output_type": "display_data"
    }
   ],
   "source": [
    "display_info(users)\n",
    "display_info(rides)\n",
    "display_info(subscriptions)"
   ]
  },
  {
   "cell_type": "markdown",
   "id": "4d8b4857",
   "metadata": {},
   "source": [
    "По результатм первоначального обзора данных можно сделать о вывод о достаточно хорошем качестве данных - отстутствуют пропуски. Однако необходимо провести предварительную обработку данных, чтобы получить более полную информацию и привести при необходимости данные к нужному формату."
   ]
  },
  {
   "cell_type": "markdown",
   "id": "e95ebca7",
   "metadata": {},
   "source": [
    "### Шаг 2. Предобработка данных"
   ]
  },
  {
   "cell_type": "markdown",
   "id": "ada21552",
   "metadata": {},
   "source": [
    "Проверим датасеты на наличие пропусков."
   ]
  },
  {
   "cell_type": "code",
   "execution_count": 5,
   "id": "9c6fd2d9",
   "metadata": {},
   "outputs": [
    {
     "data": {
      "text/plain": [
       "user_id              0\n",
       "name                 0\n",
       "age                  0\n",
       "city                 0\n",
       "subscription_type    0\n",
       "dtype: int64"
      ]
     },
     "execution_count": 5,
     "metadata": {},
     "output_type": "execute_result"
    }
   ],
   "source": [
    "users.isna().sum()"
   ]
  },
  {
   "cell_type": "code",
   "execution_count": 6,
   "id": "e1f06972",
   "metadata": {},
   "outputs": [
    {
     "data": {
      "text/plain": [
       "user_id     0\n",
       "distance    0\n",
       "duration    0\n",
       "date        0\n",
       "dtype: int64"
      ]
     },
     "execution_count": 6,
     "metadata": {},
     "output_type": "execute_result"
    }
   ],
   "source": [
    "rides.isna().sum()"
   ]
  },
  {
   "cell_type": "code",
   "execution_count": 7,
   "id": "4514cbcf",
   "metadata": {
    "scrolled": true
   },
   "outputs": [
    {
     "data": {
      "text/plain": [
       "subscription_type    0\n",
       "minute_price         0\n",
       "start_ride_price     0\n",
       "subscription_fee     0\n",
       "dtype: int64"
      ]
     },
     "execution_count": 7,
     "metadata": {},
     "output_type": "execute_result"
    }
   ],
   "source": [
    "subscriptions.isna().sum()"
   ]
  },
  {
   "cell_type": "markdown",
   "id": "dd625d6c",
   "metadata": {},
   "source": [
    "Проверим датасеты на наличие явных дубликатов."
   ]
  },
  {
   "cell_type": "code",
   "execution_count": 8,
   "id": "c187882c",
   "metadata": {},
   "outputs": [
    {
     "data": {
      "text/plain": [
       "31"
      ]
     },
     "metadata": {},
     "output_type": "display_data"
    },
    {
     "data": {
      "text/plain": [
       "0"
      ]
     },
     "metadata": {},
     "output_type": "display_data"
    },
    {
     "data": {
      "text/plain": [
       "0"
      ]
     },
     "metadata": {},
     "output_type": "display_data"
    }
   ],
   "source": [
    "display(users.duplicated().sum())\n",
    "display(rides.duplicated().sum())\n",
    "display(subscriptions.duplicated().sum())"
   ]
  },
  {
   "cell_type": "markdown",
   "id": "8bee36e6",
   "metadata": {},
   "source": [
    "Удалим явные дубликаты."
   ]
  },
  {
   "cell_type": "code",
   "execution_count": 9,
   "id": "6e762156",
   "metadata": {},
   "outputs": [
    {
     "data": {
      "text/plain": [
       "0"
      ]
     },
     "execution_count": 9,
     "metadata": {},
     "output_type": "execute_result"
    }
   ],
   "source": [
    "users = users.drop_duplicates()\n",
    "users.duplicated().sum()"
   ]
  },
  {
   "cell_type": "markdown",
   "id": "09d7ab7b",
   "metadata": {},
   "source": [
    "Добавим новый столбец с номером месяца."
   ]
  },
  {
   "cell_type": "code",
   "execution_count": 10,
   "id": "361912a6",
   "metadata": {},
   "outputs": [
    {
     "data": {
      "text/html": [
       "<div>\n",
       "<style scoped>\n",
       "    .dataframe tbody tr th:only-of-type {\n",
       "        vertical-align: middle;\n",
       "    }\n",
       "\n",
       "    .dataframe tbody tr th {\n",
       "        vertical-align: top;\n",
       "    }\n",
       "\n",
       "    .dataframe thead th {\n",
       "        text-align: right;\n",
       "    }\n",
       "</style>\n",
       "<table border=\"1\" class=\"dataframe\">\n",
       "  <thead>\n",
       "    <tr style=\"text-align: right;\">\n",
       "      <th></th>\n",
       "      <th>user_id</th>\n",
       "      <th>distance</th>\n",
       "      <th>duration</th>\n",
       "      <th>date</th>\n",
       "      <th>month</th>\n",
       "    </tr>\n",
       "  </thead>\n",
       "  <tbody>\n",
       "    <tr>\n",
       "      <th>0</th>\n",
       "      <td>1</td>\n",
       "      <td>4409.919140</td>\n",
       "      <td>25.599769</td>\n",
       "      <td>2021-01-01</td>\n",
       "      <td>1</td>\n",
       "    </tr>\n",
       "    <tr>\n",
       "      <th>1</th>\n",
       "      <td>1</td>\n",
       "      <td>2617.592153</td>\n",
       "      <td>15.816871</td>\n",
       "      <td>2021-01-18</td>\n",
       "      <td>1</td>\n",
       "    </tr>\n",
       "    <tr>\n",
       "      <th>2</th>\n",
       "      <td>1</td>\n",
       "      <td>754.159807</td>\n",
       "      <td>6.232113</td>\n",
       "      <td>2021-04-20</td>\n",
       "      <td>4</td>\n",
       "    </tr>\n",
       "    <tr>\n",
       "      <th>3</th>\n",
       "      <td>1</td>\n",
       "      <td>2694.783254</td>\n",
       "      <td>18.511000</td>\n",
       "      <td>2021-08-11</td>\n",
       "      <td>8</td>\n",
       "    </tr>\n",
       "    <tr>\n",
       "      <th>4</th>\n",
       "      <td>1</td>\n",
       "      <td>4028.687306</td>\n",
       "      <td>26.265803</td>\n",
       "      <td>2021-08-28</td>\n",
       "      <td>8</td>\n",
       "    </tr>\n",
       "  </tbody>\n",
       "</table>\n",
       "</div>"
      ],
      "text/plain": [
       "   user_id     distance   duration       date  month\n",
       "0        1  4409.919140  25.599769 2021-01-01      1\n",
       "1        1  2617.592153  15.816871 2021-01-18      1\n",
       "2        1   754.159807   6.232113 2021-04-20      4\n",
       "3        1  2694.783254  18.511000 2021-08-11      8\n",
       "4        1  4028.687306  26.265803 2021-08-28      8"
      ]
     },
     "execution_count": 10,
     "metadata": {},
     "output_type": "execute_result"
    }
   ],
   "source": [
    "rides['month'] = pd.DatetimeIndex(rides['date']).month\n",
    "rides.head()"
   ]
  },
  {
   "cell_type": "code",
   "execution_count": 11,
   "id": "9b569abb",
   "metadata": {},
   "outputs": [
    {
     "data": {
      "text/plain": [
       "array([2021])"
      ]
     },
     "execution_count": 11,
     "metadata": {},
     "output_type": "execute_result"
    }
   ],
   "source": [
    "rides['year'] = pd.DatetimeIndex(rides['date']).year\n",
    "rides['year'].unique()"
   ]
  },
  {
   "cell_type": "markdown",
   "id": "212593c7",
   "metadata": {},
   "source": [
    "#### Шаг 3. Исследовательский анализ данных"
   ]
  },
  {
   "cell_type": "markdown",
   "id": "831bc68f",
   "metadata": {},
   "source": [
    "Рассмотрим различные параметры имеющихся у нас данных."
   ]
  },
  {
   "cell_type": "markdown",
   "id": "1084d8b1",
   "metadata": {},
   "source": [
    "Проанализируем встречаемость городов среди пользователей сервиса."
   ]
  },
  {
   "cell_type": "code",
   "execution_count": 12,
   "id": "e3a4274c",
   "metadata": {},
   "outputs": [
    {
     "data": {
      "text/html": [
       "<div>\n",
       "<style scoped>\n",
       "    .dataframe tbody tr th:only-of-type {\n",
       "        vertical-align: middle;\n",
       "    }\n",
       "\n",
       "    .dataframe tbody tr th {\n",
       "        vertical-align: top;\n",
       "    }\n",
       "\n",
       "    .dataframe thead th {\n",
       "        text-align: right;\n",
       "    }\n",
       "</style>\n",
       "<table border=\"1\" class=\"dataframe\">\n",
       "  <thead>\n",
       "    <tr style=\"text-align: right;\">\n",
       "      <th></th>\n",
       "      <th>count</th>\n",
       "    </tr>\n",
       "    <tr>\n",
       "      <th>city</th>\n",
       "      <th></th>\n",
       "    </tr>\n",
       "  </thead>\n",
       "  <tbody>\n",
       "    <tr>\n",
       "      <th>Екатеринбург</th>\n",
       "      <td>204</td>\n",
       "    </tr>\n",
       "    <tr>\n",
       "      <th>Краснодар</th>\n",
       "      <td>193</td>\n",
       "    </tr>\n",
       "    <tr>\n",
       "      <th>Москва</th>\n",
       "      <td>168</td>\n",
       "    </tr>\n",
       "    <tr>\n",
       "      <th>Омск</th>\n",
       "      <td>183</td>\n",
       "    </tr>\n",
       "    <tr>\n",
       "      <th>Пятигорск</th>\n",
       "      <td>219</td>\n",
       "    </tr>\n",
       "    <tr>\n",
       "      <th>Ростов-на-Дону</th>\n",
       "      <td>198</td>\n",
       "    </tr>\n",
       "    <tr>\n",
       "      <th>Сочи</th>\n",
       "      <td>189</td>\n",
       "    </tr>\n",
       "    <tr>\n",
       "      <th>Тюмень</th>\n",
       "      <td>180</td>\n",
       "    </tr>\n",
       "  </tbody>\n",
       "</table>\n",
       "</div>"
      ],
      "text/plain": [
       "                count\n",
       "city                 \n",
       "Екатеринбург      204\n",
       "Краснодар         193\n",
       "Москва            168\n",
       "Омск              183\n",
       "Пятигорск         219\n",
       "Ростов-на-Дону    198\n",
       "Сочи              189\n",
       "Тюмень            180"
      ]
     },
     "execution_count": 12,
     "metadata": {},
     "output_type": "execute_result"
    }
   ],
   "source": [
    "users_pivot_cities = users.pivot_table(index='city', values='user_id', aggfunc='count')\n",
    "users_pivot_cities.columns=['count']\n",
    "users_pivot_cities"
   ]
  },
  {
   "cell_type": "code",
   "execution_count": 13,
   "id": "2b3c1af0",
   "metadata": {},
   "outputs": [
    {
     "data": {
      "image/png": "[encoded data removed]",
      "text/plain": [
       "<Figure size 640x480 with 1 Axes>"
      ]
     },
     "metadata": {},
     "output_type": "display_data"
    }
   ],
   "source": [
    "users_pivot_cities.sort_values(by='count').plot(kind='barh')\n",
    "plt.title('Встречаемость городов')\n",
    "plt.xlabel('наименование города')\n",
    "plt.ylabel('количество')\n",
    "plt.legend().set_visible(False);"
   ]
  },
  {
   "cell_type": "markdown",
   "id": "ea4e3ca5",
   "metadata": {},
   "source": [
    "Проанализируем соотношение пользователей с подпиской и без."
   ]
  },
  {
   "cell_type": "code",
   "execution_count": 14,
   "id": "69436e7b",
   "metadata": {},
   "outputs": [
    {
     "data": {
      "text/html": [
       "<div>\n",
       "<style scoped>\n",
       "    .dataframe tbody tr th:only-of-type {\n",
       "        vertical-align: middle;\n",
       "    }\n",
       "\n",
       "    .dataframe tbody tr th {\n",
       "        vertical-align: top;\n",
       "    }\n",
       "\n",
       "    .dataframe thead th {\n",
       "        text-align: right;\n",
       "    }\n",
       "</style>\n",
       "<table border=\"1\" class=\"dataframe\">\n",
       "  <thead>\n",
       "    <tr style=\"text-align: right;\">\n",
       "      <th></th>\n",
       "      <th>count</th>\n",
       "      <th>ratio</th>\n",
       "    </tr>\n",
       "    <tr>\n",
       "      <th>subscription_type</th>\n",
       "      <th></th>\n",
       "      <th></th>\n",
       "    </tr>\n",
       "  </thead>\n",
       "  <tbody>\n",
       "    <tr>\n",
       "      <th>free</th>\n",
       "      <td>835</td>\n",
       "      <td>54.432855</td>\n",
       "    </tr>\n",
       "    <tr>\n",
       "      <th>ultra</th>\n",
       "      <td>699</td>\n",
       "      <td>45.567145</td>\n",
       "    </tr>\n",
       "  </tbody>\n",
       "</table>\n",
       "</div>"
      ],
      "text/plain": [
       "                   count      ratio\n",
       "subscription_type                  \n",
       "free                 835  54.432855\n",
       "ultra                699  45.567145"
      ]
     },
     "execution_count": 14,
     "metadata": {},
     "output_type": "execute_result"
    }
   ],
   "source": [
    "users_pivot_sub_type = users.pivot_table(index='subscription_type', values='city', aggfunc='count')\n",
    "users_pivot_sub_type.columns = ['count']\n",
    "total = users_pivot_sub_type['count'].sum()\n",
    "users_pivot_sub_type['ratio'] = users_pivot_sub_type['count'] / total *100\n",
    "users_pivot_sub_type"
   ]
  },
  {
   "cell_type": "code",
   "execution_count": 15,
   "id": "ec480876",
   "metadata": {
    "scrolled": false
   },
   "outputs": [
    {
     "data": {
      "image/png": "[encoded data removed]",
      "text/plain": [
       "<Figure size 640x480 with 1 Axes>"
      ]
     },
     "metadata": {},
     "output_type": "display_data"
    }
   ],
   "source": [
    "users_pivot_sub_type.plot(kind='pie', y = 'ratio', autopct = '%.2f', textprops=dict(color='w'))\n",
    "plt.title('Соотношение пользователей с подпиской и без')\n",
    "plt.legend().set_visible(False);"
   ]
  },
  {
   "cell_type": "markdown",
   "id": "4f4c585d",
   "metadata": {},
   "source": [
    "Проанализируем распределение пользователей по возрастам."
   ]
  },
  {
   "cell_type": "code",
   "execution_count": 16,
   "id": "ccfe340d",
   "metadata": {},
   "outputs": [
    {
     "data": {
      "text/html": [
       "<div>\n",
       "<style scoped>\n",
       "    .dataframe tbody tr th:only-of-type {\n",
       "        vertical-align: middle;\n",
       "    }\n",
       "\n",
       "    .dataframe tbody tr th {\n",
       "        vertical-align: top;\n",
       "    }\n",
       "\n",
       "    .dataframe thead th {\n",
       "        text-align: right;\n",
       "    }\n",
       "</style>\n",
       "<table border=\"1\" class=\"dataframe\">\n",
       "  <thead>\n",
       "    <tr style=\"text-align: right;\">\n",
       "      <th></th>\n",
       "      <th>count</th>\n",
       "      <th>ratio</th>\n",
       "    </tr>\n",
       "    <tr>\n",
       "      <th>age</th>\n",
       "      <th></th>\n",
       "      <th></th>\n",
       "    </tr>\n",
       "  </thead>\n",
       "  <tbody>\n",
       "    <tr>\n",
       "      <th>12</th>\n",
       "      <td>4</td>\n",
       "      <td>0.260756</td>\n",
       "    </tr>\n",
       "    <tr>\n",
       "      <th>13</th>\n",
       "      <td>8</td>\n",
       "      <td>0.521512</td>\n",
       "    </tr>\n",
       "    <tr>\n",
       "      <th>14</th>\n",
       "      <td>9</td>\n",
       "      <td>0.586701</td>\n",
       "    </tr>\n",
       "    <tr>\n",
       "      <th>15</th>\n",
       "      <td>13</td>\n",
       "      <td>0.847458</td>\n",
       "    </tr>\n",
       "    <tr>\n",
       "      <th>16</th>\n",
       "      <td>19</td>\n",
       "      <td>1.238592</td>\n",
       "    </tr>\n",
       "    <tr>\n",
       "      <th>17</th>\n",
       "      <td>26</td>\n",
       "      <td>1.694915</td>\n",
       "    </tr>\n",
       "    <tr>\n",
       "      <th>18</th>\n",
       "      <td>46</td>\n",
       "      <td>2.998696</td>\n",
       "    </tr>\n",
       "    <tr>\n",
       "      <th>19</th>\n",
       "      <td>47</td>\n",
       "      <td>3.063885</td>\n",
       "    </tr>\n",
       "    <tr>\n",
       "      <th>20</th>\n",
       "      <td>71</td>\n",
       "      <td>4.628422</td>\n",
       "    </tr>\n",
       "    <tr>\n",
       "      <th>21</th>\n",
       "      <td>93</td>\n",
       "      <td>6.062581</td>\n",
       "    </tr>\n",
       "  </tbody>\n",
       "</table>\n",
       "</div>"
      ],
      "text/plain": [
       "     count     ratio\n",
       "age                 \n",
       "12       4  0.260756\n",
       "13       8  0.521512\n",
       "14       9  0.586701\n",
       "15      13  0.847458\n",
       "16      19  1.238592\n",
       "17      26  1.694915\n",
       "18      46  2.998696\n",
       "19      47  3.063885\n",
       "20      71  4.628422\n",
       "21      93  6.062581"
      ]
     },
     "execution_count": 16,
     "metadata": {},
     "output_type": "execute_result"
    }
   ],
   "source": [
    "users_pivot_age = users.pivot_table(index='age', values='city', aggfunc='count')\n",
    "users_pivot_age.columns = ['count']\n",
    "total_count = users_pivot_age['count'].sum()\n",
    "users_pivot_age['ratio'] = users_pivot_age['count'] / total_count *100\n",
    "users_pivot_age.head(10)"
   ]
  },
  {
   "cell_type": "code",
   "execution_count": 17,
   "id": "3fd4e616",
   "metadata": {},
   "outputs": [
    {
     "data": {
      "image/png": "[encoded data removed]",
      "text/plain": [
       "<Figure size 1500x500 with 1 Axes>"
      ]
     },
     "metadata": {},
     "output_type": "display_data"
    }
   ],
   "source": [
    "users.hist(bins=50, column='age', figsize=(15, 5))\n",
    "plt.title('Возраст пользователей')\n",
    "plt.xlabel('возраст, лет')\n",
    "plt.ylabel('количество пользователей');"
   ]
  },
  {
   "cell_type": "code",
   "execution_count": 18,
   "id": "91a3f450",
   "metadata": {},
   "outputs": [
    {
     "data": {
      "image/png": "[encoded data removed]",
      "text/plain": [
       "<Figure size 640x480 with 1 Axes>"
      ]
     },
     "metadata": {},
     "output_type": "display_data"
    }
   ],
   "source": [
    "users['age'].plot.box()\n",
    "plt.title('Диаграмма размаха возраста пользователей');"
   ]
  },
  {
   "cell_type": "code",
   "execution_count": 19,
   "id": "a5a365d4",
   "metadata": {
    "scrolled": true
   },
   "outputs": [
    {
     "data": {
      "text/plain": [
       "count    1534.000000\n",
       "mean       24.903520\n",
       "std         4.572367\n",
       "min        12.000000\n",
       "25%        22.000000\n",
       "50%        25.000000\n",
       "75%        28.000000\n",
       "max        43.000000\n",
       "Name: age, dtype: float64"
      ]
     },
     "execution_count": 19,
     "metadata": {},
     "output_type": "execute_result"
    }
   ],
   "source": [
    "users['age'].describe()"
   ]
  },
  {
   "cell_type": "markdown",
   "id": "93a2007d",
   "metadata": {},
   "source": [
    "Судя по данным диаграммы размаха значения возраста менее 13 лет и более 33 лет являются статистическими выбросами. Судя по графику это единичные значения, которые скорее всего не повлияют на результаты анализа при удалении."
   ]
  },
  {
   "cell_type": "markdown",
   "id": "6e1b2889",
   "metadata": {},
   "source": [
    "Проанализируем дальность поездок."
   ]
  },
  {
   "cell_type": "code",
   "execution_count": 20,
   "id": "755495d2",
   "metadata": {},
   "outputs": [
    {
     "data": {
      "image/png": "[encoded data removed]",
      "text/plain": [
       "<Figure size 1500x500 with 1 Axes>"
      ]
     },
     "metadata": {},
     "output_type": "display_data"
    }
   ],
   "source": [
    "rides['distance'].hist(bins=100, figsize=(15, 5))\n",
    "plt.title('Дальность поездок')\n",
    "plt.xlabel('расстояние поездки, м')\n",
    "plt.ylabel('количество поездок');"
   ]
  },
  {
   "cell_type": "code",
   "execution_count": 21,
   "id": "ed872270",
   "metadata": {},
   "outputs": [
    {
     "data": {
      "image/png": "[encoded data removed]",
      "text/plain": [
       "<Figure size 640x480 with 1 Axes>"
      ]
     },
     "metadata": {},
     "output_type": "display_data"
    }
   ],
   "source": [
    "rides['distance'].plot.box()\n",
    "plt.title('Диаграмма размаха дальности поездок');"
   ]
  },
  {
   "cell_type": "code",
   "execution_count": 22,
   "id": "b59c59a3",
   "metadata": {},
   "outputs": [
    {
     "data": {
      "text/plain": [
       "count    18068.000000\n",
       "mean      3070.659976\n",
       "std       1116.831209\n",
       "min          0.855683\n",
       "25%       2543.226360\n",
       "50%       3133.609994\n",
       "75%       3776.222735\n",
       "max       7211.007745\n",
       "Name: distance, dtype: float64"
      ]
     },
     "execution_count": 22,
     "metadata": {},
     "output_type": "execute_result"
    }
   ],
   "source": [
    "rides['distance'].describe()"
   ]
  },
  {
   "cell_type": "markdown",
   "id": "d57d004a",
   "metadata": {},
   "source": [
    "Судя по данным диаграммы размаха поездки дальностью менее ~ 600 м и более ~ 5500 м должны являться статистическими выбросами. Хотя таких значений судя по графику достаточно много и их удаление может исказить результаты анализа данных, поэтому не стоит ими пренебрегать."
   ]
  },
  {
   "cell_type": "markdown",
   "id": "b4e2cd55",
   "metadata": {},
   "source": [
    "Предположу, что короткие поездки чаще совершают пользователи без подписки для каких-то разовых коротких поездок, возможно, просто, чтобы поробовать сервис. <br>\n",
    "Пользователи с подпиской очевидно используют самокаты регулярно, возможно на одних и тех же маршрутоах, например, чтобы добраться до работы, поэтому их маршруты скорее всего не такие короткие. <br>\n",
    "Проанализировать поведение разных групп попробуем после объединения данных."
   ]
  },
  {
   "cell_type": "markdown",
   "id": "4d6d2aa3",
   "metadata": {},
   "source": [
    "Проанализируем длительность поездок."
   ]
  },
  {
   "cell_type": "code",
   "execution_count": 23,
   "id": "be0dda37",
   "metadata": {},
   "outputs": [
    {
     "data": {
      "image/png": "[encoded data removed]",
      "text/plain": [
       "<Figure size 1500x500 with 1 Axes>"
      ]
     },
     "metadata": {},
     "output_type": "display_data"
    }
   ],
   "source": [
    "rides['duration'].hist(bins=100, figsize=(15, 5))\n",
    "plt.title('Длительность поездок')\n",
    "plt.xlabel('длительность поездки, мин')\n",
    "plt.ylabel('количество поездок');"
   ]
  },
  {
   "cell_type": "code",
   "execution_count": 24,
   "id": "f93df0e5",
   "metadata": {},
   "outputs": [
    {
     "data": {
      "image/png": "[encoded data removed]",
      "text/plain": [
       "<Figure size 640x480 with 1 Axes>"
      ]
     },
     "metadata": {},
     "output_type": "display_data"
    }
   ],
   "source": [
    "rides['duration'].plot.box()\n",
    "plt.title('Диаграмма размаха длительности поездок');"
   ]
  },
  {
   "cell_type": "code",
   "execution_count": 25,
   "id": "b21a510b",
   "metadata": {},
   "outputs": [
    {
     "data": {
      "text/plain": [
       "count    18068.000000\n",
       "mean        17.805011\n",
       "std          6.091051\n",
       "min          0.500000\n",
       "25%         13.597563\n",
       "50%         17.678395\n",
       "75%         21.724800\n",
       "max         40.823963\n",
       "Name: duration, dtype: float64"
      ]
     },
     "execution_count": 25,
     "metadata": {},
     "output_type": "execute_result"
    }
   ],
   "source": [
    "rides['duration'].describe()"
   ]
  },
  {
   "cell_type": "markdown",
   "id": "96682702",
   "metadata": {},
   "source": [
    "Судя по диаграмме размаха имеются единичные выбросы по длительности поездок со временем менее 3 минут. Этими данными ожно пренебречь при анализе данных. <br>\n",
    "Также имеются значения за пределами максимального значения, которые могут считаться выбросами, однако их количество достаточно большое, что не позволяет пренебречь этими данными. Скорее всего есть какая-то причина таких данных."
   ]
  },
  {
   "cell_type": "markdown",
   "id": "bc91ab26",
   "metadata": {},
   "source": [
    "Результаты исследовательского анализа данных позволяют увидеть общую картину по имеющимся данным. <br>\n",
    "Возраст пользователей, дальность и длительность поездок в целом имеют нормальное распределение. <br>\n",
    "Межквартильный размах по параметрам составляет: <br>\n",
    "    возраст - 22-28 лет, <br>\n",
    "    дальность поездок - 2543-3776 м,<br>\n",
    "    длительность поездок - 13,6-21,7 мин.<br>\n",
    "Однако в каждой категории данных имеются выбросы.<br>\n",
    "Часть этих выбросов можно исключить из дальнейшего анализа, так как это единичные значения, которые не повлияют на результаты анализа. <br>\n",
    "Однако часть выбросов стоит учесть при анализе, так как количество таких значений достаточно большое."
   ]
  },
  {
   "cell_type": "markdown",
   "id": "4ef51331",
   "metadata": {},
   "source": [
    "### Шаг 4. Объединение данных"
   ]
  },
  {
   "cell_type": "markdown",
   "id": "13d22117",
   "metadata": {},
   "source": [
    "Объединим все имеющиеся у нас данные для удобства использования и проведения необходимых расчётов."
   ]
  },
  {
   "cell_type": "code",
   "execution_count": 26,
   "id": "402a8cd4",
   "metadata": {},
   "outputs": [
    {
     "data": {
      "text/html": [
       "<div>\n",
       "<style scoped>\n",
       "    .dataframe tbody tr th:only-of-type {\n",
       "        vertical-align: middle;\n",
       "    }\n",
       "\n",
       "    .dataframe tbody tr th {\n",
       "        vertical-align: top;\n",
       "    }\n",
       "\n",
       "    .dataframe thead th {\n",
       "        text-align: right;\n",
       "    }\n",
       "</style>\n",
       "<table border=\"1\" class=\"dataframe\">\n",
       "  <thead>\n",
       "    <tr style=\"text-align: right;\">\n",
       "      <th></th>\n",
       "      <th>user_id</th>\n",
       "      <th>name</th>\n",
       "      <th>age</th>\n",
       "      <th>city</th>\n",
       "      <th>subscription_type</th>\n",
       "      <th>distance</th>\n",
       "      <th>duration</th>\n",
       "      <th>date</th>\n",
       "      <th>month</th>\n",
       "      <th>year</th>\n",
       "    </tr>\n",
       "  </thead>\n",
       "  <tbody>\n",
       "    <tr>\n",
       "      <th>0</th>\n",
       "      <td>1</td>\n",
       "      <td>Кира</td>\n",
       "      <td>22</td>\n",
       "      <td>Тюмень</td>\n",
       "      <td>ultra</td>\n",
       "      <td>4409.919140</td>\n",
       "      <td>25.599769</td>\n",
       "      <td>2021-01-01</td>\n",
       "      <td>1</td>\n",
       "      <td>2021</td>\n",
       "    </tr>\n",
       "    <tr>\n",
       "      <th>1</th>\n",
       "      <td>1</td>\n",
       "      <td>Кира</td>\n",
       "      <td>22</td>\n",
       "      <td>Тюмень</td>\n",
       "      <td>ultra</td>\n",
       "      <td>2617.592153</td>\n",
       "      <td>15.816871</td>\n",
       "      <td>2021-01-18</td>\n",
       "      <td>1</td>\n",
       "      <td>2021</td>\n",
       "    </tr>\n",
       "    <tr>\n",
       "      <th>2</th>\n",
       "      <td>1</td>\n",
       "      <td>Кира</td>\n",
       "      <td>22</td>\n",
       "      <td>Тюмень</td>\n",
       "      <td>ultra</td>\n",
       "      <td>754.159807</td>\n",
       "      <td>6.232113</td>\n",
       "      <td>2021-04-20</td>\n",
       "      <td>4</td>\n",
       "      <td>2021</td>\n",
       "    </tr>\n",
       "    <tr>\n",
       "      <th>3</th>\n",
       "      <td>1</td>\n",
       "      <td>Кира</td>\n",
       "      <td>22</td>\n",
       "      <td>Тюмень</td>\n",
       "      <td>ultra</td>\n",
       "      <td>2694.783254</td>\n",
       "      <td>18.511000</td>\n",
       "      <td>2021-08-11</td>\n",
       "      <td>8</td>\n",
       "      <td>2021</td>\n",
       "    </tr>\n",
       "    <tr>\n",
       "      <th>4</th>\n",
       "      <td>1</td>\n",
       "      <td>Кира</td>\n",
       "      <td>22</td>\n",
       "      <td>Тюмень</td>\n",
       "      <td>ultra</td>\n",
       "      <td>4028.687306</td>\n",
       "      <td>26.265803</td>\n",
       "      <td>2021-08-28</td>\n",
       "      <td>8</td>\n",
       "      <td>2021</td>\n",
       "    </tr>\n",
       "  </tbody>\n",
       "</table>\n",
       "</div>"
      ],
      "text/plain": [
       "   user_id  name  age    city subscription_type     distance   duration  \\\n",
       "0        1  Кира   22  Тюмень             ultra  4409.919140  25.599769   \n",
       "1        1  Кира   22  Тюмень             ultra  2617.592153  15.816871   \n",
       "2        1  Кира   22  Тюмень             ultra   754.159807   6.232113   \n",
       "3        1  Кира   22  Тюмень             ultra  2694.783254  18.511000   \n",
       "4        1  Кира   22  Тюмень             ultra  4028.687306  26.265803   \n",
       "\n",
       "        date  month  year  \n",
       "0 2021-01-01      1  2021  \n",
       "1 2021-01-18      1  2021  \n",
       "2 2021-04-20      4  2021  \n",
       "3 2021-08-11      8  2021  \n",
       "4 2021-08-28      8  2021  "
      ]
     },
     "execution_count": 26,
     "metadata": {},
     "output_type": "execute_result"
    }
   ],
   "source": [
    "users_rides = users.merge(rides, on='user_id', how='inner')\n",
    "users_rides.head()"
   ]
  },
  {
   "cell_type": "code",
   "execution_count": 27,
   "id": "6bf288b5",
   "metadata": {},
   "outputs": [
    {
     "data": {
      "text/html": [
       "<div>\n",
       "<style scoped>\n",
       "    .dataframe tbody tr th:only-of-type {\n",
       "        vertical-align: middle;\n",
       "    }\n",
       "\n",
       "    .dataframe tbody tr th {\n",
       "        vertical-align: top;\n",
       "    }\n",
       "\n",
       "    .dataframe thead th {\n",
       "        text-align: right;\n",
       "    }\n",
       "</style>\n",
       "<table border=\"1\" class=\"dataframe\">\n",
       "  <thead>\n",
       "    <tr style=\"text-align: right;\">\n",
       "      <th></th>\n",
       "      <th>user_id</th>\n",
       "      <th>name</th>\n",
       "      <th>age</th>\n",
       "      <th>city</th>\n",
       "      <th>subscription_type</th>\n",
       "      <th>distance</th>\n",
       "      <th>duration</th>\n",
       "      <th>date</th>\n",
       "      <th>month</th>\n",
       "      <th>year</th>\n",
       "      <th>minute_price</th>\n",
       "      <th>start_ride_price</th>\n",
       "      <th>subscription_fee</th>\n",
       "    </tr>\n",
       "  </thead>\n",
       "  <tbody>\n",
       "    <tr>\n",
       "      <th>0</th>\n",
       "      <td>1</td>\n",
       "      <td>Кира</td>\n",
       "      <td>22</td>\n",
       "      <td>Тюмень</td>\n",
       "      <td>ultra</td>\n",
       "      <td>4409.919140</td>\n",
       "      <td>25.599769</td>\n",
       "      <td>2021-01-01</td>\n",
       "      <td>1</td>\n",
       "      <td>2021</td>\n",
       "      <td>6</td>\n",
       "      <td>0</td>\n",
       "      <td>199</td>\n",
       "    </tr>\n",
       "    <tr>\n",
       "      <th>1</th>\n",
       "      <td>1</td>\n",
       "      <td>Кира</td>\n",
       "      <td>22</td>\n",
       "      <td>Тюмень</td>\n",
       "      <td>ultra</td>\n",
       "      <td>2617.592153</td>\n",
       "      <td>15.816871</td>\n",
       "      <td>2021-01-18</td>\n",
       "      <td>1</td>\n",
       "      <td>2021</td>\n",
       "      <td>6</td>\n",
       "      <td>0</td>\n",
       "      <td>199</td>\n",
       "    </tr>\n",
       "    <tr>\n",
       "      <th>2</th>\n",
       "      <td>1</td>\n",
       "      <td>Кира</td>\n",
       "      <td>22</td>\n",
       "      <td>Тюмень</td>\n",
       "      <td>ultra</td>\n",
       "      <td>754.159807</td>\n",
       "      <td>6.232113</td>\n",
       "      <td>2021-04-20</td>\n",
       "      <td>4</td>\n",
       "      <td>2021</td>\n",
       "      <td>6</td>\n",
       "      <td>0</td>\n",
       "      <td>199</td>\n",
       "    </tr>\n",
       "    <tr>\n",
       "      <th>3</th>\n",
       "      <td>1</td>\n",
       "      <td>Кира</td>\n",
       "      <td>22</td>\n",
       "      <td>Тюмень</td>\n",
       "      <td>ultra</td>\n",
       "      <td>2694.783254</td>\n",
       "      <td>18.511000</td>\n",
       "      <td>2021-08-11</td>\n",
       "      <td>8</td>\n",
       "      <td>2021</td>\n",
       "      <td>6</td>\n",
       "      <td>0</td>\n",
       "      <td>199</td>\n",
       "    </tr>\n",
       "    <tr>\n",
       "      <th>4</th>\n",
       "      <td>1</td>\n",
       "      <td>Кира</td>\n",
       "      <td>22</td>\n",
       "      <td>Тюмень</td>\n",
       "      <td>ultra</td>\n",
       "      <td>4028.687306</td>\n",
       "      <td>26.265803</td>\n",
       "      <td>2021-08-28</td>\n",
       "      <td>8</td>\n",
       "      <td>2021</td>\n",
       "      <td>6</td>\n",
       "      <td>0</td>\n",
       "      <td>199</td>\n",
       "    </tr>\n",
       "  </tbody>\n",
       "</table>\n",
       "</div>"
      ],
      "text/plain": [
       "   user_id  name  age    city subscription_type     distance   duration  \\\n",
       "0        1  Кира   22  Тюмень             ultra  4409.919140  25.599769   \n",
       "1        1  Кира   22  Тюмень             ultra  2617.592153  15.816871   \n",
       "2        1  Кира   22  Тюмень             ultra   754.159807   6.232113   \n",
       "3        1  Кира   22  Тюмень             ultra  2694.783254  18.511000   \n",
       "4        1  Кира   22  Тюмень             ultra  4028.687306  26.265803   \n",
       "\n",
       "        date  month  year  minute_price  start_ride_price  subscription_fee  \n",
       "0 2021-01-01      1  2021             6                 0               199  \n",
       "1 2021-01-18      1  2021             6                 0               199  \n",
       "2 2021-04-20      4  2021             6                 0               199  \n",
       "3 2021-08-11      8  2021             6                 0               199  \n",
       "4 2021-08-28      8  2021             6                 0               199  "
      ]
     },
     "execution_count": 27,
     "metadata": {},
     "output_type": "execute_result"
    }
   ],
   "source": [
    "users_rides_sub = users_rides.merge(subscriptions, on='subscription_type', how='inner')\n",
    "users_rides_sub.head()"
   ]
  },
  {
   "cell_type": "code",
   "execution_count": 28,
   "id": "213ab057",
   "metadata": {},
   "outputs": [
    {
     "name": "stdout",
     "output_type": "stream",
     "text": [
      "<class 'pandas.core.frame.DataFrame'>\n",
      "RangeIndex: 18068 entries, 0 to 18067\n",
      "Data columns (total 10 columns):\n",
      " #   Column             Non-Null Count  Dtype         \n",
      "---  ------             --------------  -----         \n",
      " 0   user_id            18068 non-null  int64         \n",
      " 1   name               18068 non-null  object        \n",
      " 2   age                18068 non-null  int64         \n",
      " 3   city               18068 non-null  object        \n",
      " 4   subscription_type  18068 non-null  object        \n",
      " 5   distance           18068 non-null  float64       \n",
      " 6   duration           18068 non-null  float64       \n",
      " 7   date               18068 non-null  datetime64[ns]\n",
      " 8   month              18068 non-null  int32         \n",
      " 9   year               18068 non-null  int32         \n",
      "dtypes: datetime64[ns](1), float64(2), int32(2), int64(2), object(3)\n",
      "memory usage: 1.2+ MB\n",
      "<class 'pandas.core.frame.DataFrame'>\n",
      "RangeIndex: 18068 entries, 0 to 18067\n",
      "Data columns (total 13 columns):\n",
      " #   Column             Non-Null Count  Dtype         \n",
      "---  ------             --------------  -----         \n",
      " 0   user_id            18068 non-null  int64         \n",
      " 1   name               18068 non-null  object        \n",
      " 2   age                18068 non-null  int64         \n",
      " 3   city               18068 non-null  object        \n",
      " 4   subscription_type  18068 non-null  object        \n",
      " 5   distance           18068 non-null  float64       \n",
      " 6   duration           18068 non-null  float64       \n",
      " 7   date               18068 non-null  datetime64[ns]\n",
      " 8   month              18068 non-null  int32         \n",
      " 9   year               18068 non-null  int32         \n",
      " 10  minute_price       18068 non-null  int64         \n",
      " 11  start_ride_price   18068 non-null  int64         \n",
      " 12  subscription_fee   18068 non-null  int64         \n",
      "dtypes: datetime64[ns](1), float64(2), int32(2), int64(5), object(3)\n",
      "memory usage: 1.7+ MB\n"
     ]
    }
   ],
   "source": [
    "users_rides.info()\n",
    "users_rides_sub.info()"
   ]
  },
  {
   "cell_type": "markdown",
   "id": "566e87cf",
   "metadata": {},
   "source": [
    "Объединение данных прошло корректно. Количество строк в датасете до и после объединения совпадает. Пропуски отсутствуют. Значит, никакие данные при объединении не были утрачены."
   ]
  },
  {
   "cell_type": "markdown",
   "id": "d31e1ce0",
   "metadata": {},
   "source": [
    "Проанализируем данные о пользователях с подпиской и без."
   ]
  },
  {
   "cell_type": "code",
   "execution_count": 29,
   "id": "bdb11fbd",
   "metadata": {},
   "outputs": [
    {
     "data": {
      "text/html": [
       "<div>\n",
       "<style scoped>\n",
       "    .dataframe tbody tr th:only-of-type {\n",
       "        vertical-align: middle;\n",
       "    }\n",
       "\n",
       "    .dataframe tbody tr th {\n",
       "        vertical-align: top;\n",
       "    }\n",
       "\n",
       "    .dataframe thead th {\n",
       "        text-align: right;\n",
       "    }\n",
       "</style>\n",
       "<table border=\"1\" class=\"dataframe\">\n",
       "  <thead>\n",
       "    <tr style=\"text-align: right;\">\n",
       "      <th></th>\n",
       "      <th>user_id</th>\n",
       "      <th>name</th>\n",
       "      <th>age</th>\n",
       "      <th>city</th>\n",
       "      <th>subscription_type</th>\n",
       "      <th>distance</th>\n",
       "      <th>duration</th>\n",
       "      <th>date</th>\n",
       "      <th>month</th>\n",
       "      <th>year</th>\n",
       "      <th>minute_price</th>\n",
       "      <th>start_ride_price</th>\n",
       "      <th>subscription_fee</th>\n",
       "    </tr>\n",
       "  </thead>\n",
       "  <tbody>\n",
       "    <tr>\n",
       "      <th>0</th>\n",
       "      <td>1</td>\n",
       "      <td>Кира</td>\n",
       "      <td>22</td>\n",
       "      <td>Тюмень</td>\n",
       "      <td>ultra</td>\n",
       "      <td>4409.919140</td>\n",
       "      <td>25.599769</td>\n",
       "      <td>2021-01-01</td>\n",
       "      <td>1</td>\n",
       "      <td>2021</td>\n",
       "      <td>6</td>\n",
       "      <td>0</td>\n",
       "      <td>199</td>\n",
       "    </tr>\n",
       "    <tr>\n",
       "      <th>1</th>\n",
       "      <td>1</td>\n",
       "      <td>Кира</td>\n",
       "      <td>22</td>\n",
       "      <td>Тюмень</td>\n",
       "      <td>ultra</td>\n",
       "      <td>2617.592153</td>\n",
       "      <td>15.816871</td>\n",
       "      <td>2021-01-18</td>\n",
       "      <td>1</td>\n",
       "      <td>2021</td>\n",
       "      <td>6</td>\n",
       "      <td>0</td>\n",
       "      <td>199</td>\n",
       "    </tr>\n",
       "    <tr>\n",
       "      <th>2</th>\n",
       "      <td>1</td>\n",
       "      <td>Кира</td>\n",
       "      <td>22</td>\n",
       "      <td>Тюмень</td>\n",
       "      <td>ultra</td>\n",
       "      <td>754.159807</td>\n",
       "      <td>6.232113</td>\n",
       "      <td>2021-04-20</td>\n",
       "      <td>4</td>\n",
       "      <td>2021</td>\n",
       "      <td>6</td>\n",
       "      <td>0</td>\n",
       "      <td>199</td>\n",
       "    </tr>\n",
       "    <tr>\n",
       "      <th>3</th>\n",
       "      <td>1</td>\n",
       "      <td>Кира</td>\n",
       "      <td>22</td>\n",
       "      <td>Тюмень</td>\n",
       "      <td>ultra</td>\n",
       "      <td>2694.783254</td>\n",
       "      <td>18.511000</td>\n",
       "      <td>2021-08-11</td>\n",
       "      <td>8</td>\n",
       "      <td>2021</td>\n",
       "      <td>6</td>\n",
       "      <td>0</td>\n",
       "      <td>199</td>\n",
       "    </tr>\n",
       "    <tr>\n",
       "      <th>4</th>\n",
       "      <td>1</td>\n",
       "      <td>Кира</td>\n",
       "      <td>22</td>\n",
       "      <td>Тюмень</td>\n",
       "      <td>ultra</td>\n",
       "      <td>4028.687306</td>\n",
       "      <td>26.265803</td>\n",
       "      <td>2021-08-28</td>\n",
       "      <td>8</td>\n",
       "      <td>2021</td>\n",
       "      <td>6</td>\n",
       "      <td>0</td>\n",
       "      <td>199</td>\n",
       "    </tr>\n",
       "  </tbody>\n",
       "</table>\n",
       "</div>"
      ],
      "text/plain": [
       "   user_id  name  age    city subscription_type     distance   duration  \\\n",
       "0        1  Кира   22  Тюмень             ultra  4409.919140  25.599769   \n",
       "1        1  Кира   22  Тюмень             ultra  2617.592153  15.816871   \n",
       "2        1  Кира   22  Тюмень             ultra   754.159807   6.232113   \n",
       "3        1  Кира   22  Тюмень             ultra  2694.783254  18.511000   \n",
       "4        1  Кира   22  Тюмень             ultra  4028.687306  26.265803   \n",
       "\n",
       "        date  month  year  minute_price  start_ride_price  subscription_fee  \n",
       "0 2021-01-01      1  2021             6                 0               199  \n",
       "1 2021-01-18      1  2021             6                 0               199  \n",
       "2 2021-04-20      4  2021             6                 0               199  \n",
       "3 2021-08-11      8  2021             6                 0               199  \n",
       "4 2021-08-28      8  2021             6                 0               199  "
      ]
     },
     "execution_count": 29,
     "metadata": {},
     "output_type": "execute_result"
    }
   ],
   "source": [
    "users_sub_ultra = users_rides_sub[users_rides_sub['subscription_type'] == 'ultra']\n",
    "users_sub_ultra.head()"
   ]
  },
  {
   "cell_type": "code",
   "execution_count": 30,
   "id": "4697d4cc",
   "metadata": {},
   "outputs": [
    {
     "data": {
      "text/html": [
       "<div>\n",
       "<style scoped>\n",
       "    .dataframe tbody tr th:only-of-type {\n",
       "        vertical-align: middle;\n",
       "    }\n",
       "\n",
       "    .dataframe tbody tr th {\n",
       "        vertical-align: top;\n",
       "    }\n",
       "\n",
       "    .dataframe thead th {\n",
       "        text-align: right;\n",
       "    }\n",
       "</style>\n",
       "<table border=\"1\" class=\"dataframe\">\n",
       "  <thead>\n",
       "    <tr style=\"text-align: right;\">\n",
       "      <th></th>\n",
       "      <th>user_id</th>\n",
       "      <th>name</th>\n",
       "      <th>age</th>\n",
       "      <th>city</th>\n",
       "      <th>subscription_type</th>\n",
       "      <th>distance</th>\n",
       "      <th>duration</th>\n",
       "      <th>date</th>\n",
       "      <th>month</th>\n",
       "      <th>year</th>\n",
       "      <th>minute_price</th>\n",
       "      <th>start_ride_price</th>\n",
       "      <th>subscription_fee</th>\n",
       "    </tr>\n",
       "  </thead>\n",
       "  <tbody>\n",
       "    <tr>\n",
       "      <th>6500</th>\n",
       "      <td>700</td>\n",
       "      <td>Айдар</td>\n",
       "      <td>22</td>\n",
       "      <td>Омск</td>\n",
       "      <td>free</td>\n",
       "      <td>2515.690719</td>\n",
       "      <td>14.944286</td>\n",
       "      <td>2021-01-02</td>\n",
       "      <td>1</td>\n",
       "      <td>2021</td>\n",
       "      <td>8</td>\n",
       "      <td>50</td>\n",
       "      <td>0</td>\n",
       "    </tr>\n",
       "    <tr>\n",
       "      <th>6501</th>\n",
       "      <td>700</td>\n",
       "      <td>Айдар</td>\n",
       "      <td>22</td>\n",
       "      <td>Омск</td>\n",
       "      <td>free</td>\n",
       "      <td>846.932642</td>\n",
       "      <td>16.234663</td>\n",
       "      <td>2021-02-01</td>\n",
       "      <td>2</td>\n",
       "      <td>2021</td>\n",
       "      <td>8</td>\n",
       "      <td>50</td>\n",
       "      <td>0</td>\n",
       "    </tr>\n",
       "    <tr>\n",
       "      <th>6502</th>\n",
       "      <td>700</td>\n",
       "      <td>Айдар</td>\n",
       "      <td>22</td>\n",
       "      <td>Омск</td>\n",
       "      <td>free</td>\n",
       "      <td>4004.434142</td>\n",
       "      <td>20.016628</td>\n",
       "      <td>2021-02-04</td>\n",
       "      <td>2</td>\n",
       "      <td>2021</td>\n",
       "      <td>8</td>\n",
       "      <td>50</td>\n",
       "      <td>0</td>\n",
       "    </tr>\n",
       "    <tr>\n",
       "      <th>6503</th>\n",
       "      <td>700</td>\n",
       "      <td>Айдар</td>\n",
       "      <td>22</td>\n",
       "      <td>Омск</td>\n",
       "      <td>free</td>\n",
       "      <td>1205.911290</td>\n",
       "      <td>9.782872</td>\n",
       "      <td>2021-02-10</td>\n",
       "      <td>2</td>\n",
       "      <td>2021</td>\n",
       "      <td>8</td>\n",
       "      <td>50</td>\n",
       "      <td>0</td>\n",
       "    </tr>\n",
       "    <tr>\n",
       "      <th>6504</th>\n",
       "      <td>700</td>\n",
       "      <td>Айдар</td>\n",
       "      <td>22</td>\n",
       "      <td>Омск</td>\n",
       "      <td>free</td>\n",
       "      <td>3047.379435</td>\n",
       "      <td>17.427673</td>\n",
       "      <td>2021-02-14</td>\n",
       "      <td>2</td>\n",
       "      <td>2021</td>\n",
       "      <td>8</td>\n",
       "      <td>50</td>\n",
       "      <td>0</td>\n",
       "    </tr>\n",
       "  </tbody>\n",
       "</table>\n",
       "</div>"
      ],
      "text/plain": [
       "      user_id   name  age  city subscription_type     distance   duration  \\\n",
       "6500      700  Айдар   22  Омск              free  2515.690719  14.944286   \n",
       "6501      700  Айдар   22  Омск              free   846.932642  16.234663   \n",
       "6502      700  Айдар   22  Омск              free  4004.434142  20.016628   \n",
       "6503      700  Айдар   22  Омск              free  1205.911290   9.782872   \n",
       "6504      700  Айдар   22  Омск              free  3047.379435  17.427673   \n",
       "\n",
       "           date  month  year  minute_price  start_ride_price  subscription_fee  \n",
       "6500 2021-01-02      1  2021             8                50                 0  \n",
       "6501 2021-02-01      2  2021             8                50                 0  \n",
       "6502 2021-02-04      2  2021             8                50                 0  \n",
       "6503 2021-02-10      2  2021             8                50                 0  \n",
       "6504 2021-02-14      2  2021             8                50                 0  "
      ]
     },
     "execution_count": 30,
     "metadata": {},
     "output_type": "execute_result"
    }
   ],
   "source": [
    "users_sub_free = users_rides_sub[users_rides_sub['subscription_type'] == 'free']\n",
    "users_sub_free.head()"
   ]
  },
  {
   "cell_type": "code",
   "execution_count": 31,
   "id": "d189c4b4",
   "metadata": {},
   "outputs": [
    {
     "data": {
      "image/png": "[encoded data removed]",
      "text/plain": [
       "<Figure size 1000x500 with 1 Axes>"
      ]
     },
     "metadata": {},
     "output_type": "display_data"
    }
   ],
   "source": [
    "users_sub_ultra['distance'].hist(bins=50, figsize=(10, 5), alpha=0.7, color='blue', label='с подпиской')\n",
    "users_sub_free['distance'].hist(bins=50, figsize=(10, 5), alpha=0.3, color='red', label='без подписки')\n",
    "plt.title('Дальность поездок пользователей')\n",
    "plt.xlabel('расстояние поездки, м')\n",
    "plt.ylabel('количество поездок')\n",
    "plt.legend();"
   ]
  },
  {
   "cell_type": "code",
   "execution_count": 32,
   "id": "de0b8c11",
   "metadata": {},
   "outputs": [
    {
     "data": {
      "text/plain": [
       "count    6500.000000\n",
       "mean     3115.445388\n",
       "std       836.895330\n",
       "min       244.210438\n",
       "25%      2785.444017\n",
       "50%      3148.637229\n",
       "75%      3560.574425\n",
       "max      5699.769662\n",
       "Name: distance, dtype: float64"
      ]
     },
     "metadata": {},
     "output_type": "display_data"
    },
    {
     "data": {
      "text/plain": [
       "count    11568.000000\n",
       "mean      3045.495282\n",
       "std       1246.173806\n",
       "min          0.855683\n",
       "25%       2366.562689\n",
       "50%       3114.648465\n",
       "75%       3905.697894\n",
       "max       7211.007745\n",
       "Name: distance, dtype: float64"
      ]
     },
     "execution_count": 32,
     "metadata": {},
     "output_type": "execute_result"
    }
   ],
   "source": [
    "display(users_sub_ultra['distance'].describe())\n",
    "users_sub_free['distance'].describe()"
   ]
  },
  {
   "cell_type": "code",
   "execution_count": 33,
   "id": "b217f652",
   "metadata": {},
   "outputs": [
    {
     "data": {
      "image/png": "[encoded data removed]",
      "text/plain": [
       "<Figure size 1000x500 with 1 Axes>"
      ]
     },
     "metadata": {},
     "output_type": "display_data"
    }
   ],
   "source": [
    "users_sub_ultra['duration'].hist(bins=50, figsize=(10, 5), alpha=0.7, color='blue', label='с подпиской')\n",
    "users_sub_free['duration'].hist(bins=50, figsize=(10, 5), alpha=0.3, color='red', label='без подписки')\n",
    "plt.title('Длительность поездок пользователей')\n",
    "plt.xlabel('расстояние поездки, м')\n",
    "plt.ylabel('количество поездок')\n",
    "plt.legend();"
   ]
  },
  {
   "cell_type": "code",
   "execution_count": 34,
   "id": "da0ce7f6",
   "metadata": {},
   "outputs": [
    {
     "data": {
      "text/plain": [
       "count    6500.000000\n",
       "mean       18.541985\n",
       "std         5.572048\n",
       "min         3.760353\n",
       "25%        14.524654\n",
       "50%        18.178153\n",
       "75%        21.884129\n",
       "max        40.823963\n",
       "Name: duration, dtype: float64"
      ]
     },
     "metadata": {},
     "output_type": "display_data"
    },
    {
     "data": {
      "text/plain": [
       "count    11568.000000\n",
       "mean        17.390909\n",
       "std          6.326803\n",
       "min          0.500000\n",
       "25%         12.958437\n",
       "50%         17.326890\n",
       "75%         21.594071\n",
       "max         34.948498\n",
       "Name: duration, dtype: float64"
      ]
     },
     "execution_count": 34,
     "metadata": {},
     "output_type": "execute_result"
    }
   ],
   "source": [
    "display(users_sub_ultra['duration'].describe())\n",
    "users_sub_free['duration'].describe()"
   ]
  },
  {
   "cell_type": "markdown",
   "id": "07200c47",
   "metadata": {},
   "source": [
    "По данным видно, что количество поездок, совершаемое пользователями без подписки, вдвое превышает количество поездок пользователей с подпиской. <br>\n",
    "При этом средние дальность и длительность поездок пользователей с подпиской превышают аналогичные параметры для пользователей без подписки."
   ]
  },
  {
   "cell_type": "markdown",
   "id": "402d620f",
   "metadata": {},
   "source": [
    "### Шаг 5. Подсчёт выручки"
   ]
  },
  {
   "cell_type": "markdown",
   "id": "b41f6285",
   "metadata": {},
   "source": [
    "Подсчитаем выручку, принесённую сервису различными пользователями."
   ]
  },
  {
   "cell_type": "markdown",
   "id": "9a67e130",
   "metadata": {},
   "source": [
    "Сначала округлим продолжительность каждой поездки до ближайшего большего целого числа."
   ]
  },
  {
   "cell_type": "code",
   "execution_count": 35,
   "id": "51d758a4",
   "metadata": {},
   "outputs": [],
   "source": [
    "users_rides_sub['duration'] = np.ceil(users_rides_sub['duration'])"
   ]
  },
  {
   "cell_type": "markdown",
   "id": "030b10ee",
   "metadata": {},
   "source": [
    "Рассчитаем количество, суммарные длительность и дальность поездок для каждого пользователя помесячно."
   ]
  },
  {
   "cell_type": "code",
   "execution_count": 36,
   "id": "48e8f337",
   "metadata": {},
   "outputs": [
    {
     "data": {
      "text/html": [
       "<div>\n",
       "<style scoped>\n",
       "    .dataframe tbody tr th:only-of-type {\n",
       "        vertical-align: middle;\n",
       "    }\n",
       "\n",
       "    .dataframe tbody tr th {\n",
       "        vertical-align: top;\n",
       "    }\n",
       "\n",
       "    .dataframe thead th {\n",
       "        text-align: right;\n",
       "    }\n",
       "</style>\n",
       "<table border=\"1\" class=\"dataframe\">\n",
       "  <thead>\n",
       "    <tr style=\"text-align: right;\">\n",
       "      <th></th>\n",
       "      <th></th>\n",
       "      <th></th>\n",
       "      <th></th>\n",
       "      <th></th>\n",
       "      <th>count</th>\n",
       "      <th>distance</th>\n",
       "      <th>duration</th>\n",
       "    </tr>\n",
       "    <tr>\n",
       "      <th>user_id</th>\n",
       "      <th>subscription_fee</th>\n",
       "      <th>minute_price</th>\n",
       "      <th>start_ride_price</th>\n",
       "      <th>month</th>\n",
       "      <th></th>\n",
       "      <th></th>\n",
       "      <th></th>\n",
       "    </tr>\n",
       "  </thead>\n",
       "  <tbody>\n",
       "    <tr>\n",
       "      <th rowspan=\"5\" valign=\"top\">1</th>\n",
       "      <th rowspan=\"5\" valign=\"top\">199</th>\n",
       "      <th rowspan=\"5\" valign=\"top\">6</th>\n",
       "      <th rowspan=\"5\" valign=\"top\">0</th>\n",
       "      <th>1</th>\n",
       "      <td>2</td>\n",
       "      <td>7027.511294</td>\n",
       "      <td>42.0</td>\n",
       "    </tr>\n",
       "    <tr>\n",
       "      <th>4</th>\n",
       "      <td>1</td>\n",
       "      <td>754.159807</td>\n",
       "      <td>7.0</td>\n",
       "    </tr>\n",
       "    <tr>\n",
       "      <th>8</th>\n",
       "      <td>2</td>\n",
       "      <td>6723.470560</td>\n",
       "      <td>46.0</td>\n",
       "    </tr>\n",
       "    <tr>\n",
       "      <th>10</th>\n",
       "      <td>2</td>\n",
       "      <td>5809.911100</td>\n",
       "      <td>32.0</td>\n",
       "    </tr>\n",
       "    <tr>\n",
       "      <th>11</th>\n",
       "      <td>3</td>\n",
       "      <td>7003.499363</td>\n",
       "      <td>56.0</td>\n",
       "    </tr>\n",
       "  </tbody>\n",
       "</table>\n",
       "</div>"
      ],
      "text/plain": [
       "                                                              count  \\\n",
       "user_id subscription_fee minute_price start_ride_price month          \n",
       "1       199              6            0                1          2   \n",
       "                                                       4          1   \n",
       "                                                       8          2   \n",
       "                                                       10         2   \n",
       "                                                       11         3   \n",
       "\n",
       "                                                                 distance  \\\n",
       "user_id subscription_fee minute_price start_ride_price month                \n",
       "1       199              6            0                1      7027.511294   \n",
       "                                                       4       754.159807   \n",
       "                                                       8      6723.470560   \n",
       "                                                       10     5809.911100   \n",
       "                                                       11     7003.499363   \n",
       "\n",
       "                                                              duration  \n",
       "user_id subscription_fee minute_price start_ride_price month            \n",
       "1       199              6            0                1          42.0  \n",
       "                                                       4           7.0  \n",
       "                                                       8          46.0  \n",
       "                                                       10         32.0  \n",
       "                                                       11         56.0  "
      ]
     },
     "execution_count": 36,
     "metadata": {},
     "output_type": "execute_result"
    }
   ],
   "source": [
    "agg_func = {\\\n",
    "'distance' : ['count', 'sum'],\\\n",
    "'duration' : 'sum'}\n",
    "users_m = users_rides_sub.groupby(\\\n",
    "['user_id', 'subscription_fee', 'minute_price', 'start_ride_price', 'month'])\\\n",
    ".agg(agg_func)\n",
    "users_m.columns=['count', 'distance', 'duration']\n",
    "users_m.head()"
   ]
  },
  {
   "cell_type": "code",
   "execution_count": 37,
   "id": "f1652b72",
   "metadata": {},
   "outputs": [
    {
     "data": {
      "text/plain": [
       "count       0\n",
       "distance    0\n",
       "duration    0\n",
       "dtype: int64"
      ]
     },
     "execution_count": 37,
     "metadata": {},
     "output_type": "execute_result"
    }
   ],
   "source": [
    "users_m.isna().sum()"
   ]
  },
  {
   "cell_type": "markdown",
   "id": "39784cbb",
   "metadata": {},
   "source": [
    "Объединенные данные содержат такое же количество строк, что и исходные. Пропуски отсутствуют. Объединение данных прошло корректно."
   ]
  },
  {
   "cell_type": "markdown",
   "id": "37738db5",
   "metadata": {},
   "source": [
    "Рассчитаем выручку помесячную выручку для каждого пользователя."
   ]
  },
  {
   "cell_type": "code",
   "execution_count": 38,
   "id": "d7dae501",
   "metadata": {},
   "outputs": [
    {
     "data": {
      "text/html": [
       "<div>\n",
       "<style scoped>\n",
       "    .dataframe tbody tr th:only-of-type {\n",
       "        vertical-align: middle;\n",
       "    }\n",
       "\n",
       "    .dataframe tbody tr th {\n",
       "        vertical-align: top;\n",
       "    }\n",
       "\n",
       "    .dataframe thead th {\n",
       "        text-align: right;\n",
       "    }\n",
       "</style>\n",
       "<table border=\"1\" class=\"dataframe\">\n",
       "  <thead>\n",
       "    <tr style=\"text-align: right;\">\n",
       "      <th></th>\n",
       "      <th>user_id</th>\n",
       "      <th>subscription_fee</th>\n",
       "      <th>minute_price</th>\n",
       "      <th>start_ride_price</th>\n",
       "      <th>month</th>\n",
       "      <th>count</th>\n",
       "      <th>distance</th>\n",
       "      <th>duration</th>\n",
       "    </tr>\n",
       "  </thead>\n",
       "  <tbody>\n",
       "    <tr>\n",
       "      <th>0</th>\n",
       "      <td>1</td>\n",
       "      <td>199</td>\n",
       "      <td>6</td>\n",
       "      <td>0</td>\n",
       "      <td>1</td>\n",
       "      <td>2</td>\n",
       "      <td>7027.511294</td>\n",
       "      <td>42.0</td>\n",
       "    </tr>\n",
       "    <tr>\n",
       "      <th>1</th>\n",
       "      <td>1</td>\n",
       "      <td>199</td>\n",
       "      <td>6</td>\n",
       "      <td>0</td>\n",
       "      <td>4</td>\n",
       "      <td>1</td>\n",
       "      <td>754.159807</td>\n",
       "      <td>7.0</td>\n",
       "    </tr>\n",
       "    <tr>\n",
       "      <th>2</th>\n",
       "      <td>1</td>\n",
       "      <td>199</td>\n",
       "      <td>6</td>\n",
       "      <td>0</td>\n",
       "      <td>8</td>\n",
       "      <td>2</td>\n",
       "      <td>6723.470560</td>\n",
       "      <td>46.0</td>\n",
       "    </tr>\n",
       "    <tr>\n",
       "      <th>3</th>\n",
       "      <td>1</td>\n",
       "      <td>199</td>\n",
       "      <td>6</td>\n",
       "      <td>0</td>\n",
       "      <td>10</td>\n",
       "      <td>2</td>\n",
       "      <td>5809.911100</td>\n",
       "      <td>32.0</td>\n",
       "    </tr>\n",
       "    <tr>\n",
       "      <th>4</th>\n",
       "      <td>1</td>\n",
       "      <td>199</td>\n",
       "      <td>6</td>\n",
       "      <td>0</td>\n",
       "      <td>11</td>\n",
       "      <td>3</td>\n",
       "      <td>7003.499363</td>\n",
       "      <td>56.0</td>\n",
       "    </tr>\n",
       "  </tbody>\n",
       "</table>\n",
       "</div>"
      ],
      "text/plain": [
       "   user_id  subscription_fee  minute_price  start_ride_price  month  count  \\\n",
       "0        1               199             6                 0      1      2   \n",
       "1        1               199             6                 0      4      1   \n",
       "2        1               199             6                 0      8      2   \n",
       "3        1               199             6                 0     10      2   \n",
       "4        1               199             6                 0     11      3   \n",
       "\n",
       "      distance  duration  \n",
       "0  7027.511294      42.0  \n",
       "1   754.159807       7.0  \n",
       "2  6723.470560      46.0  \n",
       "3  5809.911100      32.0  \n",
       "4  7003.499363      56.0  "
      ]
     },
     "execution_count": 38,
     "metadata": {},
     "output_type": "execute_result"
    }
   ],
   "source": [
    "users_m = users_rides_sub.groupby(\\\n",
    "['user_id', 'subscription_fee', 'minute_price', 'start_ride_price', 'month'], as_index=False)\\\n",
    ".agg(agg_func)\n",
    "users_m.columns = ['user_id', 'subscription_fee', 'minute_price', 'start_ride_price', 'month', 'count', 'distance', 'duration']\n",
    "users_m.head()"
   ]
  },
  {
   "cell_type": "code",
   "execution_count": 39,
   "id": "58a3a2df",
   "metadata": {},
   "outputs": [
    {
     "data": {
      "text/html": [
       "<div>\n",
       "<style scoped>\n",
       "    .dataframe tbody tr th:only-of-type {\n",
       "        vertical-align: middle;\n",
       "    }\n",
       "\n",
       "    .dataframe tbody tr th {\n",
       "        vertical-align: top;\n",
       "    }\n",
       "\n",
       "    .dataframe thead th {\n",
       "        text-align: right;\n",
       "    }\n",
       "</style>\n",
       "<table border=\"1\" class=\"dataframe\">\n",
       "  <thead>\n",
       "    <tr style=\"text-align: right;\">\n",
       "      <th></th>\n",
       "      <th>user_id</th>\n",
       "      <th>subscription_fee</th>\n",
       "      <th>minute_price</th>\n",
       "      <th>start_ride_price</th>\n",
       "      <th>month</th>\n",
       "      <th>count</th>\n",
       "      <th>distance</th>\n",
       "      <th>duration</th>\n",
       "      <th>proceeds</th>\n",
       "    </tr>\n",
       "  </thead>\n",
       "  <tbody>\n",
       "    <tr>\n",
       "      <th>0</th>\n",
       "      <td>1</td>\n",
       "      <td>199</td>\n",
       "      <td>6</td>\n",
       "      <td>0</td>\n",
       "      <td>1</td>\n",
       "      <td>2</td>\n",
       "      <td>7027.511294</td>\n",
       "      <td>42.0</td>\n",
       "      <td>451.0</td>\n",
       "    </tr>\n",
       "    <tr>\n",
       "      <th>1</th>\n",
       "      <td>1</td>\n",
       "      <td>199</td>\n",
       "      <td>6</td>\n",
       "      <td>0</td>\n",
       "      <td>4</td>\n",
       "      <td>1</td>\n",
       "      <td>754.159807</td>\n",
       "      <td>7.0</td>\n",
       "      <td>241.0</td>\n",
       "    </tr>\n",
       "    <tr>\n",
       "      <th>2</th>\n",
       "      <td>1</td>\n",
       "      <td>199</td>\n",
       "      <td>6</td>\n",
       "      <td>0</td>\n",
       "      <td>8</td>\n",
       "      <td>2</td>\n",
       "      <td>6723.470560</td>\n",
       "      <td>46.0</td>\n",
       "      <td>475.0</td>\n",
       "    </tr>\n",
       "    <tr>\n",
       "      <th>3</th>\n",
       "      <td>1</td>\n",
       "      <td>199</td>\n",
       "      <td>6</td>\n",
       "      <td>0</td>\n",
       "      <td>10</td>\n",
       "      <td>2</td>\n",
       "      <td>5809.911100</td>\n",
       "      <td>32.0</td>\n",
       "      <td>391.0</td>\n",
       "    </tr>\n",
       "    <tr>\n",
       "      <th>4</th>\n",
       "      <td>1</td>\n",
       "      <td>199</td>\n",
       "      <td>6</td>\n",
       "      <td>0</td>\n",
       "      <td>11</td>\n",
       "      <td>3</td>\n",
       "      <td>7003.499363</td>\n",
       "      <td>56.0</td>\n",
       "      <td>535.0</td>\n",
       "    </tr>\n",
       "  </tbody>\n",
       "</table>\n",
       "</div>"
      ],
      "text/plain": [
       "   user_id  subscription_fee  minute_price  start_ride_price  month  count  \\\n",
       "0        1               199             6                 0      1      2   \n",
       "1        1               199             6                 0      4      1   \n",
       "2        1               199             6                 0      8      2   \n",
       "3        1               199             6                 0     10      2   \n",
       "4        1               199             6                 0     11      3   \n",
       "\n",
       "      distance  duration  proceeds  \n",
       "0  7027.511294      42.0     451.0  \n",
       "1   754.159807       7.0     241.0  \n",
       "2  6723.470560      46.0     475.0  \n",
       "3  5809.911100      32.0     391.0  \n",
       "4  7003.499363      56.0     535.0  "
      ]
     },
     "execution_count": 39,
     "metadata": {},
     "output_type": "execute_result"
    }
   ],
   "source": [
    "users_m['proceeds'] = users_m['count'] * users_m['start_ride_price'] \\\n",
    "+ users_m['duration'] * users_m['minute_price']\\\n",
    "+ users_m['subscription_fee']\n",
    "users_m.head()"
   ]
  },
  {
   "cell_type": "code",
   "execution_count": 40,
   "id": "1bc4f2a0",
   "metadata": {},
   "outputs": [
    {
     "data": {
      "text/html": [
       "<div>\n",
       "<style scoped>\n",
       "    .dataframe tbody tr th:only-of-type {\n",
       "        vertical-align: middle;\n",
       "    }\n",
       "\n",
       "    .dataframe tbody tr th {\n",
       "        vertical-align: top;\n",
       "    }\n",
       "\n",
       "    .dataframe thead th {\n",
       "        text-align: right;\n",
       "    }\n",
       "</style>\n",
       "<table border=\"1\" class=\"dataframe\">\n",
       "  <thead>\n",
       "    <tr style=\"text-align: right;\">\n",
       "      <th></th>\n",
       "      <th></th>\n",
       "      <th>mean_proceeds</th>\n",
       "      <th>total_proceeds</th>\n",
       "    </tr>\n",
       "    <tr>\n",
       "      <th>user_id</th>\n",
       "      <th>subscription_fee</th>\n",
       "      <th></th>\n",
       "      <th></th>\n",
       "    </tr>\n",
       "  </thead>\n",
       "  <tbody>\n",
       "    <tr>\n",
       "      <th>1</th>\n",
       "      <th>199</th>\n",
       "      <td>410.000000</td>\n",
       "      <td>2460.0</td>\n",
       "    </tr>\n",
       "    <tr>\n",
       "      <th>2</th>\n",
       "      <th>199</th>\n",
       "      <td>373.000000</td>\n",
       "      <td>2611.0</td>\n",
       "    </tr>\n",
       "    <tr>\n",
       "      <th>3</th>\n",
       "      <th>199</th>\n",
       "      <td>403.857143</td>\n",
       "      <td>2827.0</td>\n",
       "    </tr>\n",
       "    <tr>\n",
       "      <th>4</th>\n",
       "      <th>199</th>\n",
       "      <td>492.000000</td>\n",
       "      <td>2952.0</td>\n",
       "    </tr>\n",
       "    <tr>\n",
       "      <th>5</th>\n",
       "      <th>199</th>\n",
       "      <td>334.000000</td>\n",
       "      <td>2672.0</td>\n",
       "    </tr>\n",
       "  </tbody>\n",
       "</table>\n",
       "</div>"
      ],
      "text/plain": [
       "                          mean_proceeds  total_proceeds\n",
       "user_id subscription_fee                               \n",
       "1       199                  410.000000          2460.0\n",
       "2       199                  373.000000          2611.0\n",
       "3       199                  403.857143          2827.0\n",
       "4       199                  492.000000          2952.0\n",
       "5       199                  334.000000          2672.0"
      ]
     },
     "execution_count": 40,
     "metadata": {},
     "output_type": "execute_result"
    }
   ],
   "source": [
    "users_proceeds = users_m.pivot_table(index=['user_id', 'subscription_fee'], values='proceeds', aggfunc=['mean', 'sum'])\n",
    "users_proceeds.columns = ['mean_proceeds', 'total_proceeds']\n",
    "users_proceeds.head()"
   ]
  },
  {
   "cell_type": "code",
   "execution_count": 41,
   "id": "3f15110c",
   "metadata": {},
   "outputs": [
    {
     "data": {
      "text/plain": [
       "'Средняя месячная выручка пользователей с подпиской:'"
      ]
     },
     "metadata": {},
     "output_type": "display_data"
    },
    {
     "data": {
      "text/plain": [
       "362.7921906022502"
      ]
     },
     "metadata": {},
     "output_type": "display_data"
    },
    {
     "data": {
      "text/plain": [
       "'Общая годовая выручка пользователей с подпиской:'"
      ]
     },
     "metadata": {},
     "output_type": "display_data"
    },
    {
     "data": {
      "text/plain": [
       "1644537.0"
      ]
     },
     "metadata": {},
     "output_type": "display_data"
    }
   ],
   "source": [
    "mean_ultra_proceeds = users_m[users_m['subscription_fee'] == 199]['proceeds'].mean()\n",
    "total_ultra_proceeds = users_m[users_m['subscription_fee'] == 199]['proceeds'].sum()\n",
    "display('Средняя месячная выручка пользователей с подпиской:', mean_ultra_proceeds)\n",
    "display('Общая годовая выручка пользователей с подпиской:', total_ultra_proceeds)"
   ]
  },
  {
   "cell_type": "code",
   "execution_count": 42,
   "id": "905a47c5",
   "metadata": {},
   "outputs": [
    {
     "data": {
      "text/plain": [
       "'Средняя месячная выручка пользователей без подписки:'"
      ]
     },
     "metadata": {},
     "output_type": "display_data"
    },
    {
     "data": {
      "text/plain": [
       "328.6413651073845"
      ]
     },
     "metadata": {},
     "output_type": "display_data"
    },
    {
     "data": {
      "text/plain": [
       "'Общая годовая выручка пользователей без подписки:'"
      ]
     },
     "metadata": {},
     "output_type": "display_data"
    },
    {
     "data": {
      "text/plain": [
       "2234104.0"
      ]
     },
     "metadata": {},
     "output_type": "display_data"
    }
   ],
   "source": [
    "mean_free_proceeds = users_m[users_m['subscription_fee'] == 0]['proceeds'].mean()\n",
    "total_free_proceeds = users_m[users_m['subscription_fee'] == 0]['proceeds'].sum()\n",
    "display('Средняя месячная выручка пользователей без подписки:', mean_free_proceeds)\n",
    "display('Общая годовая выручка пользователей без подписки:', total_free_proceeds)"
   ]
  },
  {
   "cell_type": "markdown",
   "id": "41545ac0",
   "metadata": {},
   "source": [
    "### Шаг 6. Проверка гипотез"
   ]
  },
  {
   "cell_type": "markdown",
   "id": "47495309",
   "metadata": {},
   "source": [
    "Теперь, имея все необходимы данные и результаты расчётов, проверим гипотезы продакт-менеджеров сервиса."
   ]
  },
  {
   "cell_type": "markdown",
   "id": "331f4f3f",
   "metadata": {},
   "source": [
    "Тратят ли пользователи с подпиской в среднем больше времени на поездки? <br>\n",
    "Нулевая гипотеза - средние длительности поездок пользователей с подпиской и без равны. <br>\n",
    "Альтернативная гипотеза - пользователи с подпиской в среднем тратят больше времени на поездки."
   ]
  },
  {
   "cell_type": "code",
   "execution_count": 43,
   "id": "23ea867b",
   "metadata": {},
   "outputs": [
    {
     "name": "stdout",
     "output_type": "stream",
     "text": [
      "5.6757813771289775e-37\n",
      "Отвергаем нулевую гипотезу\n"
     ]
    }
   ],
   "source": [
    "alpha = 0.05\n",
    "results = st.ttest_ind(users_sub_ultra['duration'], users_sub_free['duration'], equal_var=False, alternative='greater')\n",
    "print(results.pvalue)\n",
    "if results.pvalue < alpha:\n",
    "      print('Отвергаем нулевую гипотезу')\n",
    "else:\n",
    "      print('Нет оснований отвергнуть нулевую гипотезу')"
   ]
  },
  {
   "cell_type": "markdown",
   "id": "66af694a",
   "metadata": {},
   "source": [
    "Вывод: есть основания предполагать, что пользователи с подпиской в среднем тратят больше времени на поездки.<br>\n",
    "Для оценки влияния данного фактора на бизнес необходимо учесть дополнительные факторы, например тарифы."
   ]
  },
  {
   "cell_type": "markdown",
   "id": "cd071b5c",
   "metadata": {},
   "source": [
    "Превышает ли среднее расстояние за одну поездку 3130 м у пользователей с подпиской? <br>\n",
    "Нулевая гипотеза - среднее расстояние поездки пользователей с подпиской равно 3130 м. <br>\n",
    "Альтернативная гипотеза - среднее расстояние больше 3130 м."
   ]
  },
  {
   "cell_type": "code",
   "execution_count": 44,
   "id": "098b42e6",
   "metadata": {},
   "outputs": [
    {
     "name": "stdout",
     "output_type": "stream",
     "text": [
      "0.9195368847849785\n",
      "Нет оснований отвергнуть нулевую гипотезу\n"
     ]
    }
   ],
   "source": [
    "optimal_distance = 3130\n",
    "alpha = 0.05\n",
    "results = st.ttest_1samp(users_sub_ultra['distance'], optimal_distance, alternative='greater')\n",
    "print(results.pvalue)\n",
    "if results.pvalue < alpha:\n",
    "    print('Отвергаем нулевую гипотезу')\n",
    "else:\n",
    "    print('Нет оснований отвергнуть нулевую гипотезу')"
   ]
  },
  {
   "cell_type": "markdown",
   "id": "c07c9521",
   "metadata": {},
   "source": [
    "Вывод: нет оснований предполагать, что пользователи с подпиской в среднем проезжают за одну поездку больше 3130 м.<br>\n",
    "Это выгодно бизнесу, так как не превышено оптимальное расстояние для одной поездки самоката, а следовательно это не приведёт к досрочному износу самокатов. <br>"
   ]
  },
  {
   "cell_type": "markdown",
   "id": "bea6831a",
   "metadata": {},
   "source": [
    "Будет ли средняя помесячная выручка пользователей с подпиской больше, чем у пользователей без подписки? <br>\n",
    "Нулевая гипотеза - средние помесячные выручки пользователей с подпиской и без равны. <br>\n",
    "Альтернативная гипотеза - средняя выручка пользователей с подпиской больше."
   ]
  },
  {
   "cell_type": "code",
   "execution_count": 45,
   "id": "b6d7a24f",
   "metadata": {
    "scrolled": true
   },
   "outputs": [
    {
     "name": "stdout",
     "output_type": "stream",
     "text": [
      "1.8850394384715216e-31\n",
      "Отвергаем нулевую гипотезу\n"
     ]
    }
   ],
   "source": [
    "users_ultra_proceeds = users_m[users_m['subscription_fee'] == 199]\n",
    "users_free_proceeds = users_m[users_m['subscription_fee'] == 0]\n",
    "alpha = 0.05\n",
    "results = st.ttest_ind(users_ultra_proceeds['proceeds'], users_free_proceeds['proceeds'], alternative='greater')\n",
    "print(results.pvalue)\n",
    "if results.pvalue < alpha:\n",
    "      print('Отвергаем нулевую гипотезу')\n",
    "else:\n",
    "      print('Нет оснований отвергнуть нулевую гипотезу')"
   ]
  },
  {
   "cell_type": "markdown",
   "id": "13a11d18",
   "metadata": {},
   "source": [
    "Вывод: есть основания предполагать, что пользователи с подпиской приносят большую среднюю выручку, чем пользователи без подписки. Таким образом, бизнесу выгоднее расширять сегмент пользователей с подпиской."
   ]
  },
  {
   "cell_type": "markdown",
   "id": "7655a909",
   "metadata": {},
   "source": [
    "Для проверки гипотезы о снижении количества обращений в техподдержку после обновления сервера стоит применить гипотезу о равенстве генеральной совокупности для зависимых выборок  и использовать команду st.ttest_rel()"
   ]
  },
  {
   "cell_type": "markdown",
   "id": "5d0ad0e3",
   "metadata": {},
   "source": [
    "Снизится ли количество обращений в техподдержку после обновления сервера? <br>\n",
    "Нулевая гипотеза - средние количества обращений в техподдержку до и после обновления равны. \n",
    "Альтернативная гипотеза - количество обращений изменилось."
   ]
  },
  {
   "cell_type": "code",
   "execution_count": 46,
   "id": "33a9dde4",
   "metadata": {
    "scrolled": true
   },
   "outputs": [
    {
     "name": "stdout",
     "output_type": "stream",
     "text": [
      "Среднее до обновления: 268.8\n",
      "Среднее после обновления: 341.26666666666665\n",
      "0.005825972457958989\n",
      "Отвергаем нулевую гипотезу о равенстве среднего числа обращений\n"
     ]
    }
   ],
   "source": [
    "old = [157, 114, 152, 355, 155, 513, 299, 268, 164, 320, \n",
    "          192, 262, 506, 240, 364, 179, 246, 427, 187, 431, \n",
    "          320, 193, 313, 347, 312, 92, 177, 225, 242, 312] #датасет с информацией о количестве обращений до обновления\n",
    "\n",
    "new = [282, 220, 162, 226, 296, 479, 248, 322, 298, 418, \n",
    "         552, 246, 251, 404, 368, 484, 358, 264, 359, 410, \n",
    "         382, 350, 406, 416, 438, 364, 283, 314, 420, 218] #датасет с информацией о количестве обращений после обновления\n",
    "\n",
    "print('Среднее до обновления:', pd.Series(old).mean())\n",
    "print('Среднее после обновления:', pd.Series(new).mean())\n",
    "\n",
    "alpha = 0.05\n",
    "\n",
    "results = st.ttest_rel(old, new)\n",
    "\n",
    "print(results.pvalue)\n",
    "\n",
    "if results.pvalue < alpha:\n",
    "     print('Отвергаем нулевую гипотезу о равенстве среднего числа обращений')\n",
    "else:\n",
    "     print('Не получилось отвергнуть нулевую гипотезу о равенстве среднего числа обращений')\n",
    "    \n"
   ]
  },
  {
   "cell_type": "markdown",
   "id": "054b383e",
   "metadata": {},
   "source": [
    "Так как гипотеза о равенстве среднего числа обращений отвергнута, посмотрим средние обращений до и после обновления. Среднее число обращений после обновления увеличилось, значит, обновление не привело к ожидаемому результату - сокращению числа обращений."
   ]
  },
  {
   "cell_type": "markdown",
   "id": "61213c5e",
   "metadata": {},
   "source": [
    "### Шаг 7. Распределения"
   ]
  },
  {
   "cell_type": "markdown",
   "id": "de9f1ef0",
   "metadata": {},
   "source": [
    "Необходимо, чтобы 100 пользователей продлили подписку после получения промокода.<br>\n",
    "Вероятность продления подписки составляет 10%.<br>\n",
    "Сколько промокодов нужно разослать, чтобы вероятность невыполнения плана была примерно 5%?"
   ]
  },
  {
   "cell_type": "markdown",
   "id": "376f269f",
   "metadata": {},
   "source": [
    "Построим график распределения."
   ]
  },
  {
   "cell_type": "code",
   "execution_count": 47,
   "id": "95cd1d51",
   "metadata": {},
   "outputs": [
    {
     "data": {
      "image/png": "[encoded data removed]",
      "text/plain": [
       "<Figure size 640x480 with 1 Axes>"
      ]
     },
     "metadata": {},
     "output_type": "display_data"
    }
   ],
   "source": [
    "from math import factorial\n",
    "p = 0.1\n",
    "n_users = 100\n",
    "distr = []\n",
    "\n",
    "for k in range(0, n_users + 1):\n",
    "    choose = factorial(n_users) / (factorial(k) * factorial(n_users - k))\n",
    "    prob = choose * p ** k * (1 - p) ** (n_users - k)\n",
    "    distr.append(prob)\n",
    "    \n",
    "plt.bar(range(0, n_users + 1), distr)\n",
    "plt.title('Распределение вероятности продления подписки')\n",
    "plt.xlabel('количество пользователей, чел')\n",
    "plt.ylabel('вероятность');"
   ]
  },
  {
   "cell_type": "markdown",
   "id": "c6279ff0",
   "metadata": {},
   "source": [
    "С помощью метода cdf() подберем необходимое количество промокодов."
   ]
  },
  {
   "cell_type": "code",
   "execution_count": 48,
   "id": "7d3c9d7c",
   "metadata": {},
   "outputs": [
    {
     "name": "stdout",
     "output_type": "stream",
     "text": [
      "0.9502851068730583\n"
     ]
    }
   ],
   "source": [
    "from math import sqrt\n",
    "from scipy import stats as st\n",
    "\n",
    "n_users = 1169 \n",
    "p = 0.1\n",
    "\n",
    "mu = n_users * p \n",
    "sigma = sqrt(n_users * p * (1 - p))\n",
    "\n",
    "distr = st.norm(mu, sigma)\n",
    "\n",
    "result = distr.cdf(100)\n",
    "print(1-result)"
   ]
  },
  {
   "cell_type": "markdown",
   "id": "71183a8a",
   "metadata": {},
   "source": [
    "1169 промокодов - минимальное количество промокодов, которое необходимо разослать, чтобы вероятность невыполнения плана была не более 5%."
   ]
  },
  {
   "cell_type": "markdown",
   "id": "25a77554",
   "metadata": {},
   "source": [
    "Планируется разослать 1 000 000 уведомлений. <br>\n",
    "Вероятность открытия уведомления составляет 40%. <br>\n",
    "Какова вероятность того, что уведомления откроют не более 399 500 человек (то есть менее 399 500)?"
   ]
  },
  {
   "cell_type": "markdown",
   "id": "2d649825",
   "metadata": {},
   "source": [
    "С помощью метода cdf() посчитаем вероятность."
   ]
  },
  {
   "cell_type": "code",
   "execution_count": 49,
   "id": "5970aa07",
   "metadata": {},
   "outputs": [
    {
     "name": "stdout",
     "output_type": "stream",
     "text": [
      "0.8462829170363023\n"
     ]
    }
   ],
   "source": [
    "n = 1000000\n",
    "p = 0.4\n",
    "\n",
    "mu = n * p\n",
    "sigma = sqrt(n * p * (1 - p))\n",
    "\n",
    "distr = st.norm(mu, sigma) \n",
    "\n",
    "result =1- distr.cdf(399500)\n",
    "print(result)"
   ]
  },
  {
   "cell_type": "markdown",
   "id": "6579123d",
   "metadata": {},
   "source": [
    "Вероятность получить менее 399500 открытий уведомлений равна ~ 15.37%."
   ]
  },
  {
   "cell_type": "markdown",
   "id": "8675ca9f",
   "metadata": {},
   "source": [
    "**Выводы.<br>\n",
    "На основании проведенного анализа данных можно определить портрет пользователя сервиса проката самокатов. <br>\n",
    "Основная группа пользователей - люди в возрасте от 20 до 30 лет, проживающие в крупных городах нашей страны. <br>\n",
    "Количество пользователей без подписки превышает количество пользователей с подпиской, однако это преимущество сложно назвать подавляющим. <br>\n",
    "При этом пользователи без подписки совершают вдвое больше поездок (11568 проти 6500). <br>\n",
    "Средние длительность и дальность поездок пользователей с подпиской выше, чем аналогичные показатели у пользователей без подписки (расстояние - 3115,4 и 3045,5 м соответсвенно; время - 18,5 и 17,4 минут соответственно).<br>\n",
    "Среднемесячная выручка пользователей с подпиской выше, чем у пользователей без подписки (362 и 328 рублей соответственно).<br>\n",
    "Однако общая выручка за год пользователей без подписки на 35% превышает общую выручку пользователей с подпиской.<br>\n",
    "Руководству сервиса проката самокатов стоит рассмотреть возможности расширения сегмента пользователей с подпиской, так как их средняя выручка выше.<br>\n",
    "Кроме того, стоит рассмотреть возможности расширения срвиса в столицах страны - на данный момент они не являются лидерами по встречаемости в данных. При этом в столицах проживает наибольшее количество людей, наблюдаются постоянные пробки и платежеспособность людей самая высокая.<br>\n",
    "Также стоит обратить внимание на крупные города, в которых нет метро - такие, как Омск, так как в них низкая вариативность общественного транспорта и как следствие низкая транспортная доступнось.**"
   ]
  }
 ],
 "metadata": {
  "ExecuteTimeLog": [
   {
    "duration": 45,
    "start_time": "2024-07-05T19:57:16.876Z"
   },
   {
    "duration": 1039,
    "start_time": "2024-07-05T19:57:21.792Z"
   },
   {
    "duration": 255,
    "start_time": "2024-07-05T19:57:22.832Z"
   },
   {
    "duration": 19,
    "start_time": "2024-07-05T19:57:23.088Z"
   },
   {
    "duration": 18,
    "start_time": "2024-07-05T19:57:23.109Z"
   },
   {
    "duration": 31,
    "start_time": "2024-07-05T19:57:23.128Z"
   },
   {
    "duration": 49,
    "start_time": "2024-07-05T19:57:23.160Z"
   },
   {
    "duration": 51,
    "start_time": "2024-07-05T19:57:23.211Z"
   },
   {
    "duration": 58,
    "start_time": "2024-07-05T19:57:23.264Z"
   },
   {
    "duration": 37,
    "start_time": "2024-07-05T19:57:23.324Z"
   },
   {
    "duration": 6,
    "start_time": "2024-07-05T19:57:23.364Z"
   },
   {
    "duration": 12,
    "start_time": "2024-07-05T19:57:23.371Z"
   },
   {
    "duration": 20,
    "start_time": "2024-07-05T19:57:23.384Z"
   },
   {
    "duration": 23,
    "start_time": "2024-07-05T19:57:23.405Z"
   },
   {
    "duration": 166,
    "start_time": "2024-07-05T19:57:23.429Z"
   },
   {
    "duration": 21,
    "start_time": "2024-07-05T19:57:23.597Z"
   },
   {
    "duration": 121,
    "start_time": "2024-07-05T19:57:23.620Z"
   },
   {
    "duration": 12,
    "start_time": "2024-07-05T19:57:23.742Z"
   },
   {
    "duration": 202,
    "start_time": "2024-07-05T19:57:23.756Z"
   },
   {
    "duration": 244,
    "start_time": "2024-07-05T19:57:23.960Z"
   },
   {
    "duration": 235,
    "start_time": "2024-07-05T19:57:24.208Z"
   },
   {
    "duration": 16,
    "start_time": "2024-07-05T19:57:24.444Z"
   },
   {
    "duration": 18,
    "start_time": "2024-07-05T19:57:24.461Z"
   },
   {
    "duration": 30,
    "start_time": "2024-07-05T19:57:24.480Z"
   },
   {
    "duration": 189,
    "start_time": "2024-07-05T19:57:24.512Z"
   },
   {
    "duration": 195,
    "start_time": "2024-07-05T19:57:24.702Z"
   },
   {
    "duration": 20,
    "start_time": "2024-07-05T19:57:24.898Z"
   },
   {
    "duration": 250,
    "start_time": "2024-07-05T19:57:24.919Z"
   },
   {
    "duration": 181,
    "start_time": "2024-07-05T19:57:25.172Z"
   },
   {
    "duration": 14,
    "start_time": "2024-07-05T19:57:25.355Z"
   },
   {
    "duration": 30,
    "start_time": "2024-07-05T19:57:25.370Z"
   },
   {
    "duration": 13,
    "start_time": "2024-07-05T19:57:25.401Z"
   },
   {
    "duration": 9,
    "start_time": "2024-07-05T19:57:25.415Z"
   },
   {
    "duration": 37,
    "start_time": "2024-07-05T19:57:25.425Z"
   },
   {
    "duration": 14,
    "start_time": "2024-07-05T19:57:25.463Z"
   },
   {
    "duration": 70,
    "start_time": "2024-07-05T19:57:25.478Z"
   },
   {
    "duration": 20,
    "start_time": "2024-07-05T19:57:25.550Z"
   },
   {
    "duration": 22,
    "start_time": "2024-07-05T19:57:25.572Z"
   },
   {
    "duration": 80,
    "start_time": "2024-07-05T19:57:25.596Z"
   },
   {
    "duration": 263,
    "start_time": "2024-07-05T19:57:25.677Z"
   },
   {
    "duration": 4,
    "start_time": "2024-07-05T19:57:25.942Z"
   },
   {
    "duration": 182504,
    "start_time": "2024-07-05T19:57:25.947Z"
   },
   {
    "duration": 0,
    "start_time": "2024-07-05T20:00:28.453Z"
   },
   {
    "duration": 0,
    "start_time": "2024-07-05T20:00:28.454Z"
   },
   {
    "duration": 5,
    "start_time": "2024-07-05T20:02:05.172Z"
   },
   {
    "duration": 5,
    "start_time": "2024-07-05T20:02:36.749Z"
   },
   {
    "duration": 6,
    "start_time": "2024-07-05T20:05:28.507Z"
   },
   {
    "duration": 5,
    "start_time": "2024-07-05T20:11:05.623Z"
   },
   {
    "duration": 1038,
    "start_time": "2024-07-05T20:13:13.701Z"
   },
   {
    "duration": 184,
    "start_time": "2024-07-05T20:13:14.741Z"
   },
   {
    "duration": 19,
    "start_time": "2024-07-05T20:13:14.926Z"
   },
   {
    "duration": 15,
    "start_time": "2024-07-05T20:13:14.946Z"
   },
   {
    "duration": 12,
    "start_time": "2024-07-05T20:13:14.963Z"
   },
   {
    "duration": 5,
    "start_time": "2024-07-05T20:13:14.976Z"
   },
   {
    "duration": 6,
    "start_time": "2024-07-05T20:13:14.982Z"
   },
   {
    "duration": 6,
    "start_time": "2024-07-05T20:13:15.008Z"
   },
   {
    "duration": 108,
    "start_time": "2024-07-05T20:13:15.015Z"
   },
   {
    "duration": 45,
    "start_time": "2024-07-05T20:13:15.124Z"
   },
   {
    "duration": 59,
    "start_time": "2024-07-05T20:13:15.170Z"
   },
   {
    "duration": 24,
    "start_time": "2024-07-05T20:13:15.231Z"
   },
   {
    "duration": 46,
    "start_time": "2024-07-05T20:13:15.257Z"
   },
   {
    "duration": 204,
    "start_time": "2024-07-05T20:13:15.306Z"
   },
   {
    "duration": 12,
    "start_time": "2024-07-05T20:13:15.512Z"
   },
   {
    "duration": 215,
    "start_time": "2024-07-05T20:13:15.525Z"
   },
   {
    "duration": 12,
    "start_time": "2024-07-05T20:13:15.741Z"
   },
   {
    "duration": 240,
    "start_time": "2024-07-05T20:13:15.755Z"
   },
   {
    "duration": 238,
    "start_time": "2024-07-05T20:13:15.996Z"
   },
   {
    "duration": 234,
    "start_time": "2024-07-05T20:13:16.235Z"
   },
   {
    "duration": 15,
    "start_time": "2024-07-05T20:13:16.470Z"
   },
   {
    "duration": 33,
    "start_time": "2024-07-05T20:13:16.487Z"
   },
   {
    "duration": 42,
    "start_time": "2024-07-05T20:13:16.521Z"
   },
   {
    "duration": 170,
    "start_time": "2024-07-05T20:13:16.564Z"
   },
   {
    "duration": 183,
    "start_time": "2024-07-05T20:13:16.735Z"
   },
   {
    "duration": 12,
    "start_time": "2024-07-05T20:13:16.919Z"
   },
   {
    "duration": 249,
    "start_time": "2024-07-05T20:13:16.932Z"
   },
   {
    "duration": 178,
    "start_time": "2024-07-05T20:13:17.182Z"
   },
   {
    "duration": 15,
    "start_time": "2024-07-05T20:13:17.361Z"
   },
   {
    "duration": 37,
    "start_time": "2024-07-05T20:13:17.377Z"
   },
   {
    "duration": 21,
    "start_time": "2024-07-05T20:13:17.415Z"
   },
   {
    "duration": 22,
    "start_time": "2024-07-05T20:13:17.437Z"
   },
   {
    "duration": 34,
    "start_time": "2024-07-05T20:13:17.461Z"
   },
   {
    "duration": 43,
    "start_time": "2024-07-05T20:13:17.496Z"
   },
   {
    "duration": 55,
    "start_time": "2024-07-05T20:13:17.540Z"
   },
   {
    "duration": 33,
    "start_time": "2024-07-05T20:13:17.596Z"
   },
   {
    "duration": 67,
    "start_time": "2024-07-05T20:13:17.630Z"
   },
   {
    "duration": 55,
    "start_time": "2024-07-05T20:13:17.699Z"
   },
   {
    "duration": 239,
    "start_time": "2024-07-05T20:13:17.755Z"
   },
   {
    "duration": 4,
    "start_time": "2024-07-05T20:13:17.995Z"
   },
   {
    "duration": 28,
    "start_time": "2024-07-05T20:13:18.002Z"
   },
   {
    "duration": 47,
    "start_time": "2024-07-05T20:13:18.031Z"
   },
   {
    "duration": 45,
    "start_time": "2024-07-05T20:13:18.079Z"
   },
   {
    "duration": 1021,
    "start_time": "2024-07-07T20:59:00.079Z"
   },
   {
    "duration": 77,
    "start_time": "2024-07-07T20:59:01.102Z"
   },
   {
    "duration": 0,
    "start_time": "2024-07-07T20:59:01.184Z"
   },
   {
    "duration": 0,
    "start_time": "2024-07-07T20:59:01.185Z"
   },
   {
    "duration": 0,
    "start_time": "2024-07-07T20:59:01.187Z"
   },
   {
    "duration": 0,
    "start_time": "2024-07-07T20:59:01.188Z"
   },
   {
    "duration": 0,
    "start_time": "2024-07-07T20:59:01.189Z"
   },
   {
    "duration": 0,
    "start_time": "2024-07-07T20:59:01.190Z"
   },
   {
    "duration": 0,
    "start_time": "2024-07-07T20:59:01.192Z"
   },
   {
    "duration": 0,
    "start_time": "2024-07-07T20:59:01.193Z"
   },
   {
    "duration": 0,
    "start_time": "2024-07-07T20:59:01.194Z"
   },
   {
    "duration": 0,
    "start_time": "2024-07-07T20:59:01.195Z"
   },
   {
    "duration": 0,
    "start_time": "2024-07-07T20:59:01.197Z"
   },
   {
    "duration": 0,
    "start_time": "2024-07-07T20:59:01.198Z"
   },
   {
    "duration": 0,
    "start_time": "2024-07-07T20:59:01.200Z"
   },
   {
    "duration": 0,
    "start_time": "2024-07-07T20:59:01.201Z"
   },
   {
    "duration": 0,
    "start_time": "2024-07-07T20:59:01.202Z"
   },
   {
    "duration": 1,
    "start_time": "2024-07-07T20:59:01.203Z"
   },
   {
    "duration": 0,
    "start_time": "2024-07-07T20:59:01.205Z"
   },
   {
    "duration": 0,
    "start_time": "2024-07-07T20:59:01.206Z"
   },
   {
    "duration": 0,
    "start_time": "2024-07-07T20:59:01.208Z"
   },
   {
    "duration": 0,
    "start_time": "2024-07-07T20:59:01.209Z"
   },
   {
    "duration": 0,
    "start_time": "2024-07-07T20:59:01.210Z"
   },
   {
    "duration": 0,
    "start_time": "2024-07-07T20:59:01.212Z"
   },
   {
    "duration": 1,
    "start_time": "2024-07-07T20:59:01.213Z"
   },
   {
    "duration": 0,
    "start_time": "2024-07-07T20:59:01.215Z"
   },
   {
    "duration": 0,
    "start_time": "2024-07-07T20:59:01.216Z"
   },
   {
    "duration": 0,
    "start_time": "2024-07-07T20:59:01.217Z"
   },
   {
    "duration": 0,
    "start_time": "2024-07-07T20:59:01.219Z"
   },
   {
    "duration": 0,
    "start_time": "2024-07-07T20:59:01.220Z"
   },
   {
    "duration": 0,
    "start_time": "2024-07-07T20:59:01.221Z"
   },
   {
    "duration": 0,
    "start_time": "2024-07-07T20:59:01.238Z"
   },
   {
    "duration": 0,
    "start_time": "2024-07-07T20:59:01.239Z"
   },
   {
    "duration": 0,
    "start_time": "2024-07-07T20:59:01.241Z"
   },
   {
    "duration": 0,
    "start_time": "2024-07-07T20:59:01.249Z"
   },
   {
    "duration": 0,
    "start_time": "2024-07-07T20:59:01.250Z"
   },
   {
    "duration": 0,
    "start_time": "2024-07-07T20:59:01.252Z"
   },
   {
    "duration": 0,
    "start_time": "2024-07-07T20:59:01.253Z"
   },
   {
    "duration": 0,
    "start_time": "2024-07-07T20:59:01.254Z"
   },
   {
    "duration": 0,
    "start_time": "2024-07-07T20:59:01.255Z"
   },
   {
    "duration": 0,
    "start_time": "2024-07-07T20:59:01.256Z"
   },
   {
    "duration": 0,
    "start_time": "2024-07-07T20:59:01.257Z"
   },
   {
    "duration": 0,
    "start_time": "2024-07-07T20:59:01.258Z"
   },
   {
    "duration": 0,
    "start_time": "2024-07-07T20:59:01.259Z"
   },
   {
    "duration": 0,
    "start_time": "2024-07-07T20:59:01.260Z"
   },
   {
    "duration": 0,
    "start_time": "2024-07-07T20:59:01.262Z"
   },
   {
    "duration": 0,
    "start_time": "2024-07-07T20:59:01.263Z"
   },
   {
    "duration": 0,
    "start_time": "2024-07-07T20:59:01.264Z"
   },
   {
    "duration": 0,
    "start_time": "2024-07-07T20:59:01.265Z"
   },
   {
    "duration": 0,
    "start_time": "2024-07-07T20:59:01.266Z"
   },
   {
    "duration": 0,
    "start_time": "2024-07-07T20:59:01.267Z"
   },
   {
    "duration": 0,
    "start_time": "2024-07-07T20:59:01.268Z"
   },
   {
    "duration": 0,
    "start_time": "2024-07-07T20:59:01.270Z"
   },
   {
    "duration": 0,
    "start_time": "2024-07-07T20:59:01.271Z"
   },
   {
    "duration": 0,
    "start_time": "2024-07-07T20:59:01.272Z"
   },
   {
    "duration": 0,
    "start_time": "2024-07-07T20:59:01.273Z"
   },
   {
    "duration": 0,
    "start_time": "2024-07-07T20:59:01.274Z"
   },
   {
    "duration": 0,
    "start_time": "2024-07-07T20:59:01.275Z"
   },
   {
    "duration": 0,
    "start_time": "2024-07-07T20:59:01.276Z"
   },
   {
    "duration": 57,
    "start_time": "2024-07-07T21:01:41.865Z"
   },
   {
    "duration": 65,
    "start_time": "2024-07-07T21:01:57.558Z"
   },
   {
    "duration": 209,
    "start_time": "2024-07-07T21:02:03.593Z"
   },
   {
    "duration": 3,
    "start_time": "2024-07-07T21:02:07.079Z"
   },
   {
    "duration": 54,
    "start_time": "2024-07-07T21:02:07.460Z"
   },
   {
    "duration": 1014,
    "start_time": "2024-07-07T21:03:16.064Z"
   },
   {
    "duration": 152,
    "start_time": "2024-07-07T21:03:17.080Z"
   },
   {
    "duration": 3,
    "start_time": "2024-07-07T21:03:17.234Z"
   },
   {
    "duration": 64,
    "start_time": "2024-07-07T21:03:17.240Z"
   },
   {
    "duration": 5,
    "start_time": "2024-07-07T21:03:17.306Z"
   },
   {
    "duration": 22,
    "start_time": "2024-07-07T21:03:17.313Z"
   },
   {
    "duration": 18,
    "start_time": "2024-07-07T21:03:17.337Z"
   },
   {
    "duration": 32,
    "start_time": "2024-07-07T21:03:17.356Z"
   },
   {
    "duration": 25,
    "start_time": "2024-07-07T21:03:17.390Z"
   },
   {
    "duration": 48,
    "start_time": "2024-07-07T21:03:17.417Z"
   },
   {
    "duration": 13,
    "start_time": "2024-07-07T21:03:17.467Z"
   },
   {
    "duration": 21,
    "start_time": "2024-07-07T21:03:17.481Z"
   },
   {
    "duration": 37,
    "start_time": "2024-07-07T21:03:17.504Z"
   },
   {
    "duration": 159,
    "start_time": "2024-07-07T21:03:17.543Z"
   },
   {
    "duration": 15,
    "start_time": "2024-07-07T21:03:17.704Z"
   },
   {
    "duration": 99,
    "start_time": "2024-07-07T21:03:17.721Z"
   },
   {
    "duration": 21,
    "start_time": "2024-07-07T21:03:17.821Z"
   },
   {
    "duration": 212,
    "start_time": "2024-07-07T21:03:17.844Z"
   },
   {
    "duration": 110,
    "start_time": "2024-07-07T21:03:18.058Z"
   },
   {
    "duration": 8,
    "start_time": "2024-07-07T21:03:18.170Z"
   },
   {
    "duration": 307,
    "start_time": "2024-07-07T21:03:18.179Z"
   },
   {
    "duration": 107,
    "start_time": "2024-07-07T21:03:18.487Z"
   },
   {
    "duration": 8,
    "start_time": "2024-07-07T21:03:18.596Z"
   },
   {
    "duration": 316,
    "start_time": "2024-07-07T21:03:18.605Z"
   },
   {
    "duration": 108,
    "start_time": "2024-07-07T21:03:18.923Z"
   },
   {
    "duration": 11,
    "start_time": "2024-07-07T21:03:19.032Z"
   },
   {
    "duration": 16,
    "start_time": "2024-07-07T21:03:19.045Z"
   },
   {
    "duration": 15,
    "start_time": "2024-07-07T21:03:19.064Z"
   },
   {
    "duration": 20,
    "start_time": "2024-07-07T21:03:19.080Z"
   },
   {
    "duration": 45,
    "start_time": "2024-07-07T21:03:19.101Z"
   },
   {
    "duration": 13,
    "start_time": "2024-07-07T21:03:19.148Z"
   },
   {
    "duration": 305,
    "start_time": "2024-07-07T21:03:19.162Z"
   },
   {
    "duration": 15,
    "start_time": "2024-07-07T21:03:19.469Z"
   },
   {
    "duration": 353,
    "start_time": "2024-07-07T21:03:19.486Z"
   },
   {
    "duration": 12,
    "start_time": "2024-07-07T21:03:19.841Z"
   },
   {
    "duration": 3,
    "start_time": "2024-07-07T21:03:19.854Z"
   },
   {
    "duration": 22,
    "start_time": "2024-07-07T21:03:19.858Z"
   },
   {
    "duration": 2,
    "start_time": "2024-07-07T21:03:19.882Z"
   },
   {
    "duration": 3,
    "start_time": "2024-07-07T21:03:19.885Z"
   },
   {
    "duration": 4,
    "start_time": "2024-07-07T21:03:19.890Z"
   },
   {
    "duration": 3,
    "start_time": "2024-07-07T21:03:19.895Z"
   },
   {
    "duration": 56,
    "start_time": "2024-07-07T21:03:19.899Z"
   },
   {
    "duration": 11,
    "start_time": "2024-07-07T21:03:19.957Z"
   },
   {
    "duration": 2,
    "start_time": "2024-07-07T21:03:19.970Z"
   },
   {
    "duration": 5,
    "start_time": "2024-07-07T21:03:19.973Z"
   },
   {
    "duration": 4,
    "start_time": "2024-07-07T21:03:19.979Z"
   },
   {
    "duration": 11,
    "start_time": "2024-07-07T21:03:19.985Z"
   },
   {
    "duration": 31,
    "start_time": "2024-07-07T21:03:19.997Z"
   },
   {
    "duration": 17,
    "start_time": "2024-07-07T21:03:20.029Z"
   },
   {
    "duration": 27,
    "start_time": "2024-07-07T21:03:20.047Z"
   },
   {
    "duration": 12,
    "start_time": "2024-07-07T21:03:20.076Z"
   },
   {
    "duration": 19,
    "start_time": "2024-07-07T21:03:20.090Z"
   },
   {
    "duration": 25,
    "start_time": "2024-07-07T21:03:20.110Z"
   },
   {
    "duration": 107,
    "start_time": "2024-07-07T21:03:20.136Z"
   },
   {
    "duration": 0,
    "start_time": "2024-07-07T21:03:20.244Z"
   },
   {
    "duration": 0,
    "start_time": "2024-07-07T21:03:20.246Z"
   },
   {
    "duration": 0,
    "start_time": "2024-07-07T21:03:20.247Z"
   },
   {
    "duration": 0,
    "start_time": "2024-07-07T21:03:20.248Z"
   },
   {
    "duration": 0,
    "start_time": "2024-07-07T21:03:20.249Z"
   },
   {
    "duration": 30,
    "start_time": "2024-07-07T21:17:20.175Z"
   },
   {
    "duration": 9,
    "start_time": "2024-07-07T21:18:27.109Z"
   },
   {
    "duration": 236,
    "start_time": "2024-07-07T21:22:03.859Z"
   },
   {
    "duration": 7,
    "start_time": "2024-07-07T21:23:01.074Z"
   },
   {
    "duration": 9,
    "start_time": "2024-07-07T21:26:35.097Z"
   },
   {
    "duration": 5,
    "start_time": "2024-07-07T21:27:08.013Z"
   },
   {
    "duration": 5,
    "start_time": "2024-07-07T21:27:12.756Z"
   },
   {
    "duration": 6,
    "start_time": "2024-07-07T21:27:22.487Z"
   },
   {
    "duration": 7,
    "start_time": "2024-07-07T21:28:37.755Z"
   },
   {
    "duration": 5,
    "start_time": "2024-07-07T21:29:34.221Z"
   },
   {
    "duration": 5,
    "start_time": "2024-07-07T21:30:17.223Z"
   },
   {
    "duration": 1108,
    "start_time": "2024-07-07T21:31:05.804Z"
   },
   {
    "duration": 259,
    "start_time": "2024-07-07T21:31:06.914Z"
   },
   {
    "duration": 3,
    "start_time": "2024-07-07T21:31:07.175Z"
   },
   {
    "duration": 64,
    "start_time": "2024-07-07T21:31:07.180Z"
   },
   {
    "duration": 6,
    "start_time": "2024-07-07T21:31:07.245Z"
   },
   {
    "duration": 9,
    "start_time": "2024-07-07T21:31:07.253Z"
   },
   {
    "duration": 15,
    "start_time": "2024-07-07T21:31:07.264Z"
   },
   {
    "duration": 23,
    "start_time": "2024-07-07T21:31:07.281Z"
   },
   {
    "duration": 7,
    "start_time": "2024-07-07T21:31:07.306Z"
   },
   {
    "duration": 32,
    "start_time": "2024-07-07T21:31:07.315Z"
   },
   {
    "duration": 10,
    "start_time": "2024-07-07T21:31:07.348Z"
   },
   {
    "duration": 6,
    "start_time": "2024-07-07T21:31:07.360Z"
   },
   {
    "duration": 42,
    "start_time": "2024-07-07T21:31:07.367Z"
   },
   {
    "duration": 163,
    "start_time": "2024-07-07T21:31:07.410Z"
   },
   {
    "duration": 14,
    "start_time": "2024-07-07T21:31:07.575Z"
   },
   {
    "duration": 105,
    "start_time": "2024-07-07T21:31:07.591Z"
   },
   {
    "duration": 16,
    "start_time": "2024-07-07T21:31:07.699Z"
   },
   {
    "duration": 250,
    "start_time": "2024-07-07T21:31:07.717Z"
   },
   {
    "duration": 98,
    "start_time": "2024-07-07T21:31:07.968Z"
   },
   {
    "duration": 7,
    "start_time": "2024-07-07T21:31:08.068Z"
   },
   {
    "duration": 293,
    "start_time": "2024-07-07T21:31:08.076Z"
   },
   {
    "duration": 111,
    "start_time": "2024-07-07T21:31:08.370Z"
   },
   {
    "duration": 8,
    "start_time": "2024-07-07T21:31:08.483Z"
   },
   {
    "duration": 329,
    "start_time": "2024-07-07T21:31:08.493Z"
   },
   {
    "duration": 108,
    "start_time": "2024-07-07T21:31:08.823Z"
   },
   {
    "duration": 9,
    "start_time": "2024-07-07T21:31:08.937Z"
   },
   {
    "duration": 16,
    "start_time": "2024-07-07T21:31:08.947Z"
   },
   {
    "duration": 16,
    "start_time": "2024-07-07T21:31:08.968Z"
   },
   {
    "duration": 54,
    "start_time": "2024-07-07T21:31:08.986Z"
   },
   {
    "duration": 15,
    "start_time": "2024-07-07T21:31:09.042Z"
   },
   {
    "duration": 13,
    "start_time": "2024-07-07T21:31:09.058Z"
   },
   {
    "duration": 325,
    "start_time": "2024-07-07T21:31:09.073Z"
   },
   {
    "duration": 16,
    "start_time": "2024-07-07T21:31:09.400Z"
   },
   {
    "duration": 336,
    "start_time": "2024-07-07T21:31:09.418Z"
   },
   {
    "duration": 15,
    "start_time": "2024-07-07T21:31:09.756Z"
   },
   {
    "duration": 4,
    "start_time": "2024-07-07T21:31:09.772Z"
   },
   {
    "duration": 24,
    "start_time": "2024-07-07T21:31:09.778Z"
   },
   {
    "duration": 3,
    "start_time": "2024-07-07T21:31:09.803Z"
   },
   {
    "duration": 2,
    "start_time": "2024-07-07T21:31:09.838Z"
   },
   {
    "duration": 3,
    "start_time": "2024-07-07T21:31:09.842Z"
   },
   {
    "duration": 9,
    "start_time": "2024-07-07T21:31:09.847Z"
   },
   {
    "duration": 115,
    "start_time": "2024-07-07T21:31:09.858Z"
   },
   {
    "duration": 26,
    "start_time": "2024-07-07T21:31:09.974Z"
   },
   {
    "duration": 13,
    "start_time": "2024-07-07T21:31:10.001Z"
   },
   {
    "duration": 86,
    "start_time": "2024-07-07T21:31:10.016Z"
   },
   {
    "duration": 3,
    "start_time": "2024-07-07T21:31:10.104Z"
   },
   {
    "duration": 4,
    "start_time": "2024-07-07T21:31:10.108Z"
   },
   {
    "duration": 5,
    "start_time": "2024-07-07T21:31:10.114Z"
   },
   {
    "duration": 24,
    "start_time": "2024-07-07T21:31:10.120Z"
   },
   {
    "duration": 10,
    "start_time": "2024-07-07T21:31:10.145Z"
   },
   {
    "duration": 9,
    "start_time": "2024-07-07T21:31:10.156Z"
   },
   {
    "duration": 5,
    "start_time": "2024-07-07T21:31:10.166Z"
   },
   {
    "duration": 8,
    "start_time": "2024-07-07T21:31:10.172Z"
   },
   {
    "duration": 6,
    "start_time": "2024-07-07T21:31:10.181Z"
   },
   {
    "duration": 55,
    "start_time": "2024-07-07T21:31:10.188Z"
   },
   {
    "duration": 4,
    "start_time": "2024-07-07T21:31:10.245Z"
   },
   {
    "duration": 262,
    "start_time": "2024-07-07T21:31:10.251Z"
   },
   {
    "duration": 5,
    "start_time": "2024-07-07T21:31:10.515Z"
   },
   {
    "duration": 3,
    "start_time": "2024-07-07T21:31:10.522Z"
   },
   {
    "duration": 15,
    "start_time": "2024-07-07T21:31:10.526Z"
   },
   {
    "duration": 6,
    "start_time": "2024-07-07T21:31:10.543Z"
   },
   {
    "duration": 6,
    "start_time": "2024-07-07T21:31:10.550Z"
   }
  ],
  "kernelspec": {
   "display_name": "Python 3 (ipykernel)",
   "language": "python",
   "name": "python3"
  },
  "language_info": {
   "codemirror_mode": {
    "name": "ipython",
    "version": 3
   },
   "file_extension": ".py",
   "mimetype": "text/x-python",
   "name": "python",
   "nbconvert_exporter": "python",
   "pygments_lexer": "ipython3",
   "version": "3.11.7"
  },
  "toc": {
   "base_numbering": 1,
   "nav_menu": {},
   "number_sections": true,
   "sideBar": true,
   "skip_h1_title": true,
   "title_cell": "Table of Contents",
   "title_sidebar": "Contents",
   "toc_cell": false,
   "toc_position": {},
   "toc_section_display": true,
   "toc_window_display": true
  }
 },
 "nbformat": 4,
 "nbformat_minor": 5
}
